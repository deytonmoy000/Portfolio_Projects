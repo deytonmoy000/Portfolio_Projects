{
 "cells": [
  {
   "cell_type": "markdown",
   "metadata": {},
   "source": [
    "# STOCK MARKET DATA STREAMING FOR REAL-TIME ANALYTICS"
   ]
  },
  {
   "cell_type": "markdown",
   "metadata": {},
   "source": [
    "## KAFKA PRODUCER CODE"
   ]
  },
  {
   "cell_type": "markdown",
   "metadata": {},
   "source": [
    "### The Top 100 US Stock Index One-Day (60min interval) data used for this project is requested using the API from \"https://www.alphavantage.co/support/#api-key\"\n",
    "#### The following code is used for streaming the stock market data to Kafka topics for real-time analysis on the Consumer end. "
   ]
  },
  {
   "cell_type": "markdown",
   "metadata": {},
   "source": [
    "### IMPORT LIBRARIES"
   ]
  },
  {
   "cell_type": "code",
   "execution_count": 1,
   "metadata": {},
   "outputs": [],
   "source": [
    "import pandas as pd\n",
    "from kafka import KafkaProducer\n",
    "from time import sleep\n",
    "import datetime\n",
    "from json import dumps\n",
    "import json\n",
    "import requests"
   ]
  },
  {
   "cell_type": "markdown",
   "metadata": {},
   "source": [
    "### CREATE PRODUCER"
   ]
  },
  {
   "cell_type": "code",
   "execution_count": 2,
   "metadata": {},
   "outputs": [],
   "source": [
    "producer = KafkaProducer(bootstrap_servers=['18.220.172.23:9092'],\n",
    "                        value_serializer=lambda x: dumps(x).encode('utf-8'))"
   ]
  },
  {
   "cell_type": "markdown",
   "metadata": {},
   "source": [
    "### LOAD THE DATA USING API & SEND IT FROM PRODUCER USING KAFKA"
   ]
  },
  {
   "cell_type": "markdown",
   "metadata": {},
   "source": [
    "#### Top 100 US Stock Indexes"
   ]
  },
  {
   "cell_type": "code",
   "execution_count": 3,
   "metadata": {
    "scrolled": true
   },
   "outputs": [],
   "source": [
    "top_100_us_stock_symbols = [\n",
    "    \"AAPL\", \"MSFT\", \"AMZN\", \"GOOGL\", \"GOOG\", \"META\", \"TSLA\", \"NVDA\", \"BRK-A\", \"BRK-B\",\n",
    "    \"JPM\", \"JNJ\", \"V\", \"PG\", \"UNH\", \"MA\", \"HD\", \"BAC\", \"DIS\", \"PYPL\",\n",
    "    \"CMCSA\", \"VZ\", \"NFLX\", \"ADBE\", \"T\", \"CSCO\", \"PEP\", \"INTC\", \"KO\", \"ABT\",\n",
    "    \"PFE\", \"XOM\", \"WMT\", \"CVX\", \"NKE\", \"MRK\", \"WFC\", \"MCD\", \"ABNB\", \"CRM\",\n",
    "    \"BMY\", \"HON\", \"BA\", \"CMG\", \"COST\", \"TXN\", \"TMO\", \"AMGN\", \"PM\", \"MO\",\n",
    "    \"AVGO\", \"C\", \"GILD\", \"ORCL\", \"IBM\", \"AMD\", \"UNP\", \"GE\", \"PDD\", \"NEE\",\n",
    "    \"DHR\", \"D\", \"LIN\", \"TGT\", \"NOW\", \"NVO\", \"CAT\", \"TMUS\", \"LMT\", \"SAP\",\n",
    "    \"MMM\", \"LOW\", \"ADP\", \"AMD\", \"AMT\", \"AXP\", \"BLK\", \"CCI\", \"CME\", \"COF\",\n",
    "    \"COP\", \"CSX\", \"DIA\", \"DOCU\", \"EL\", \"FIS\", \"GD\", \"GM\", \"GS\", \"HAL\",\n",
    "    \"HDB\", \"HON\", \"IBM\", \"ICE\", \"IEFA\", \"IEMG\", \"IETC\", \"IEUR\", \"IEUS\", \"IEX\"\n",
    "    ]\n"
   ]
  },
  {
   "cell_type": "markdown",
   "metadata": {},
   "source": [
    "### Request One-Day data for each Stock Index using the API  from https://www.alphavantage.co/support/#api-key\n",
    "#### Send the data to Consumer using KafkaProducer"
   ]
  },
  {
   "cell_type": "code",
   "execution_count": 4,
   "metadata": {},
   "outputs": [
    {
     "name": "stdout",
     "output_type": "stream",
     "text": [
      "AAPL Stock Data Requested Using API\n",
      "AAPL  Stock Data Sent to Consumer using Kafka\n",
      "ABNB Stock Data Requested Using API\n",
      "ABNB  Stock Data Sent to Consumer using Kafka\n",
      "ABT Stock Data Requested Using API\n",
      "ABT  Stock Data Sent to Consumer using Kafka\n",
      "ADBE Stock Data Requested Using API\n",
      "ADBE  Stock Data Sent to Consumer using Kafka\n",
      "ADP Stock Data Requested Using API\n",
      "ADP  Stock Data Sent to Consumer using Kafka\n",
      "AMD Stock Data Requested Using API\n",
      "AMD  Stock Data Sent to Consumer using Kafka\n",
      "AMD Stock Data Requested Using API\n",
      "AMD  Stock Data Sent to Consumer using Kafka\n",
      "AMGN Stock Data Requested Using API\n",
      "AMGN  Stock Data Sent to Consumer using Kafka\n",
      "AMT Stock Data Requested Using API\n",
      "AMT  Stock Data Sent to Consumer using Kafka\n",
      "AMZN Stock Data Requested Using API\n",
      "AMZN  Stock Data Sent to Consumer using Kafka\n",
      "AVGO Stock Data Requested Using API\n",
      "AVGO  Stock Data Sent to Consumer using Kafka\n",
      "AXP Stock Data Requested Using API\n",
      "AXP  Stock Data Sent to Consumer using Kafka\n",
      "BA Stock Data Requested Using API\n",
      "BA  Stock Data Sent to Consumer using Kafka\n",
      "BAC Stock Data Requested Using API\n",
      "BAC  Stock Data Sent to Consumer using Kafka\n",
      "BLK Stock Data Requested Using API\n",
      "BLK  Stock Data Sent to Consumer using Kafka\n",
      "BMY Stock Data Requested Using API\n",
      "BMY  Stock Data Sent to Consumer using Kafka\n",
      "BRK-A Stock Data Requested Using API\n"
     ]
    },
    {
     "ename": "KeyboardInterrupt",
     "evalue": "",
     "output_type": "error",
     "traceback": [
      "\u001b[0;31m---------------------------------------------------------------------------\u001b[0m",
      "\u001b[0;31mKeyboardInterrupt\u001b[0m                         Traceback (most recent call last)",
      "\u001b[0;32m<ipython-input-4-1820c29fbe9c>\u001b[0m in \u001b[0;36m<module>\u001b[0;34m\u001b[0m\n\u001b[1;32m     44\u001b[0m         \u001b[0mproducer\u001b[0m\u001b[0;34m.\u001b[0m\u001b[0msend\u001b[0m\u001b[0;34m(\u001b[0m\u001b[0;34m'demo_top100_us_stock'\u001b[0m\u001b[0;34m,\u001b[0m \u001b[0mvalue\u001b[0m\u001b[0;34m=\u001b[0m\u001b[0mdict_stock\u001b[0m\u001b[0;34m)\u001b[0m\u001b[0;34m\u001b[0m\u001b[0;34m\u001b[0m\u001b[0m\n\u001b[1;32m     45\u001b[0m \u001b[0;34m\u001b[0m\u001b[0m\n\u001b[0;32m---> 46\u001b[0;31m         \u001b[0msleep\u001b[0m\u001b[0;34m(\u001b[0m\u001b[0;36m0.1\u001b[0m\u001b[0;34m)\u001b[0m \u001b[0;31m# To avoid overloading the server\u001b[0m\u001b[0;34m\u001b[0m\u001b[0;34m\u001b[0m\u001b[0m\n\u001b[0m\u001b[1;32m     47\u001b[0m \u001b[0;34m\u001b[0m\u001b[0m\n\u001b[1;32m     48\u001b[0m     \u001b[0mprint\u001b[0m\u001b[0;34m(\u001b[0m\u001b[0mstock_index\u001b[0m\u001b[0;34m,\u001b[0m \u001b[0;34m\" Stock Data Sent to Consumer using Kafka\"\u001b[0m\u001b[0;34m)\u001b[0m\u001b[0;34m\u001b[0m\u001b[0;34m\u001b[0m\u001b[0m\n",
      "\u001b[0;31mKeyboardInterrupt\u001b[0m: "
     ]
    }
   ],
   "source": [
    "interval       = 60 # in minutes\n",
    "api_key        = \"XV1DON5HG5EZUICZ\"\n",
    "\n",
    "data_all = []\n",
    "\n",
    "for stock_index in sorted(top_100_us_stock_symbols):\n",
    "   \n",
    "    print(stock_index, \"Stock Data Requested Using API\")\n",
    "    \n",
    "    url = 'https://www.alphavantage.co/query?function=TIME_SERIES_INTRADAY&symbol='+stock_index+'&interval='+str(interval)+'min&apikey='+api_key\n",
    "    \n",
    "    r = requests.get(url)\n",
    "    \n",
    "    request_data = r.json()\n",
    "    \n",
    "    # Transform the data into a DataFrame \n",
    "    request_data = request_data['Time Series ('+str(interval)+'min)']\n",
    "\n",
    "    data = pd.DataFrame.from_dict(request_data, orient='index').reset_index()\n",
    "    \n",
    "    data.columns = ['DateTime'] + list(data.columns)[1:]\n",
    "        \n",
    "    \n",
    "    # Improve the Readability of the Data\n",
    "    data.insert(1, 'Stock_Index', stock_index)\n",
    "    \n",
    "    data['Date'] = data['DateTime'].str.split(' ').str[0]\n",
    "    \n",
    "    data['Time'] = data['DateTime'].str.split(' ').str[1]\n",
    "    \n",
    "    date_col = data.pop('Date')\n",
    "    time_col = data.pop('Time')\n",
    "    \n",
    "    data.insert(1, 'Date', date_col)\n",
    "    data.insert(2, 'Time', time_col)\n",
    "    \n",
    "    data = data.drop(columns=['DateTime'])\n",
    "    \n",
    "    \n",
    "    # SEND the data \n",
    "    for index, row in data.iterrows():\n",
    "        dict_stock = row.to_dict()\n",
    "        \n",
    "        producer.send('demo_top100_us_stock', value=dict_stock)\n",
    "        \n",
    "        sleep(0.1) # To avoid overloading the server\n",
    "    \n",
    "    print(stock_index, \" Stock Data Sent to Consumer using Kafka\")\n",
    "    \n",
    "    producer.flush()\n",
    "    \n",
    "    sleep(2) # Optional: To avoid crossing the upper limit of 5 requests per minute (API restriction)"
   ]
  },
  {
   "cell_type": "code",
   "execution_count": null,
   "metadata": {},
   "outputs": [],
   "source": []
  }
 ],
 "metadata": {
  "kernelspec": {
   "display_name": "Python 3",
   "language": "python",
   "name": "python3"
  },
  "language_info": {
   "codemirror_mode": {
    "name": "ipython",
    "version": 3
   },
   "file_extension": ".py",
   "mimetype": "text/x-python",
   "name": "python",
   "nbconvert_exporter": "python",
   "pygments_lexer": "ipython3",
   "version": "3.8.5"
  }
 },
 "nbformat": 4,
 "nbformat_minor": 4
}
