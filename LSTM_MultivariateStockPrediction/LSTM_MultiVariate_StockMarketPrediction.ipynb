{
 "cells": [
  {
   "cell_type": "markdown",
   "metadata": {},
   "source": [
    "# MULTIVARIATE STOCK VALUE PREDICTION USING LONG-SHORT-TERM-MEMORY (LSTM)"
   ]
  },
  {
   "cell_type": "markdown",
   "metadata": {},
   "source": [
    "##### NASDAQ data source: \"https://finance.yahoo.com/quote/%5EIXIC/history?p=%5EIXIC\""
   ]
  },
  {
   "cell_type": "markdown",
   "metadata": {},
   "source": [
    "### IMPORT LIBRARIES"
   ]
  },
  {
   "cell_type": "code",
   "execution_count": 1,
   "metadata": {},
   "outputs": [],
   "source": [
    "import pandas as pd\n",
    "import numpy as np\n",
    "from keras.models import Sequential, load_model\n",
    "from keras.layers import LSTM, Dense, Dropout\n",
    "from keras.callbacks import ModelCheckpoint\n",
    "from sklearn.preprocessing import StandardScaler\n",
    "import matplotlib.pyplot as plt\n",
    "import seaborn as sns"
   ]
  },
  {
   "cell_type": "markdown",
   "metadata": {},
   "source": [
    "### LOAD NASDAQ DATA"
   ]
  },
  {
   "cell_type": "code",
   "execution_count": 2,
   "metadata": {},
   "outputs": [
    {
     "data": {
      "text/html": [
       "<div>\n",
       "<style scoped>\n",
       "    .dataframe tbody tr th:only-of-type {\n",
       "        vertical-align: middle;\n",
       "    }\n",
       "\n",
       "    .dataframe tbody tr th {\n",
       "        vertical-align: top;\n",
       "    }\n",
       "\n",
       "    .dataframe thead th {\n",
       "        text-align: right;\n",
       "    }\n",
       "</style>\n",
       "<table border=\"1\" class=\"dataframe\">\n",
       "  <thead>\n",
       "    <tr style=\"text-align: right;\">\n",
       "      <th></th>\n",
       "      <th>Date</th>\n",
       "      <th>Open</th>\n",
       "      <th>High</th>\n",
       "      <th>Low</th>\n",
       "      <th>Close</th>\n",
       "      <th>Adj Close</th>\n",
       "      <th>Volume</th>\n",
       "    </tr>\n",
       "  </thead>\n",
       "  <tbody>\n",
       "    <tr>\n",
       "      <th>1253</th>\n",
       "      <td>2023-06-07</td>\n",
       "      <td>13295.259766</td>\n",
       "      <td>13361.900391</td>\n",
       "      <td>13089.480469</td>\n",
       "      <td>13104.900391</td>\n",
       "      <td>13104.900391</td>\n",
       "      <td>5270600000</td>\n",
       "    </tr>\n",
       "    <tr>\n",
       "      <th>1254</th>\n",
       "      <td>2023-06-08</td>\n",
       "      <td>13113.269531</td>\n",
       "      <td>13248.599609</td>\n",
       "      <td>13101.179688</td>\n",
       "      <td>13238.519531</td>\n",
       "      <td>13238.519531</td>\n",
       "      <td>4280160000</td>\n",
       "    </tr>\n",
       "    <tr>\n",
       "      <th>1255</th>\n",
       "      <td>2023-06-09</td>\n",
       "      <td>13312.389648</td>\n",
       "      <td>13385.950195</td>\n",
       "      <td>13229.330078</td>\n",
       "      <td>13259.139648</td>\n",
       "      <td>13259.139648</td>\n",
       "      <td>4412710000</td>\n",
       "    </tr>\n",
       "    <tr>\n",
       "      <th>1256</th>\n",
       "      <td>2023-06-12</td>\n",
       "      <td>13326.370117</td>\n",
       "      <td>13465.910156</td>\n",
       "      <td>13302.580078</td>\n",
       "      <td>13461.919922</td>\n",
       "      <td>13461.919922</td>\n",
       "      <td>4722680000</td>\n",
       "    </tr>\n",
       "    <tr>\n",
       "      <th>1257</th>\n",
       "      <td>2023-06-13</td>\n",
       "      <td>13566.530273</td>\n",
       "      <td>13594.400391</td>\n",
       "      <td>13473.190430</td>\n",
       "      <td>13573.320313</td>\n",
       "      <td>13573.320313</td>\n",
       "      <td>5522100000</td>\n",
       "    </tr>\n",
       "  </tbody>\n",
       "</table>\n",
       "</div>"
      ],
      "text/plain": [
       "            Date          Open          High           Low         Close  \\\n",
       "1253  2023-06-07  13295.259766  13361.900391  13089.480469  13104.900391   \n",
       "1254  2023-06-08  13113.269531  13248.599609  13101.179688  13238.519531   \n",
       "1255  2023-06-09  13312.389648  13385.950195  13229.330078  13259.139648   \n",
       "1256  2023-06-12  13326.370117  13465.910156  13302.580078  13461.919922   \n",
       "1257  2023-06-13  13566.530273  13594.400391  13473.190430  13573.320313   \n",
       "\n",
       "         Adj Close      Volume  \n",
       "1253  13104.900391  5270600000  \n",
       "1254  13238.519531  4280160000  \n",
       "1255  13259.139648  4412710000  \n",
       "1256  13461.919922  4722680000  \n",
       "1257  13573.320313  5522100000  "
      ]
     },
     "execution_count": 2,
     "metadata": {},
     "output_type": "execute_result"
    }
   ],
   "source": [
    "nasdaq = pd.read_csv('nasdaq5Y.csv')\n",
    "nasdaq.tail()"
   ]
  },
  {
   "cell_type": "markdown",
   "metadata": {},
   "source": [
    "### DATA CLEANING"
   ]
  },
  {
   "cell_type": "code",
   "execution_count": 3,
   "metadata": {},
   "outputs": [
    {
     "data": {
      "image/png": "[encoded data removed]",
      "text/plain": [
       "<Figure size 432x288 with 1 Axes>"
      ]
     },
     "metadata": {
      "needs_background": "light"
     },
     "output_type": "display_data"
    }
   ],
   "source": [
    "nasdaq['Date'] = pd.to_datetime(nasdaq['Date'])\n",
    "nasdaq.plot.line(y=\"Open\", x='Date');"
   ]
  },
  {
   "cell_type": "code",
   "execution_count": 4,
   "metadata": {
    "scrolled": true
   },
   "outputs": [
    {
     "data": {
      "text/plain": [
       "Date         datetime64[ns]\n",
       "Open                float64\n",
       "High                float64\n",
       "Low                 float64\n",
       "Close               float64\n",
       "Adj Close           float64\n",
       "Volume                int64\n",
       "dtype: object"
      ]
     },
     "execution_count": 4,
     "metadata": {},
     "output_type": "execute_result"
    }
   ],
   "source": [
    "nasdaq.dtypes"
   ]
  },
  {
   "cell_type": "code",
   "execution_count": 5,
   "metadata": {},
   "outputs": [],
   "source": [
    "# nasdaq['Target'] = nasdaq['Open'].shift(-1)\n",
    "# nasdaq.head()"
   ]
  },
  {
   "cell_type": "code",
   "execution_count": 6,
   "metadata": {},
   "outputs": [
    {
     "data": {
      "text/plain": [
       "['Open', 'High', 'Low', 'Close', 'Adj Close']"
      ]
     },
     "execution_count": 6,
     "metadata": {},
     "output_type": "execute_result"
    }
   ],
   "source": [
    "predictors = list(nasdaq)[1:6]\n",
    "predictors"
   ]
  },
  {
   "cell_type": "code",
   "execution_count": 7,
   "metadata": {
    "scrolled": false
   },
   "outputs": [
    {
     "data": {
      "text/html": [
       "<div>\n",
       "<style scoped>\n",
       "    .dataframe tbody tr th:only-of-type {\n",
       "        vertical-align: middle;\n",
       "    }\n",
       "\n",
       "    .dataframe tbody tr th {\n",
       "        vertical-align: top;\n",
       "    }\n",
       "\n",
       "    .dataframe thead th {\n",
       "        text-align: right;\n",
       "    }\n",
       "</style>\n",
       "<table border=\"1\" class=\"dataframe\">\n",
       "  <thead>\n",
       "    <tr style=\"text-align: right;\">\n",
       "      <th></th>\n",
       "      <th>Open</th>\n",
       "      <th>High</th>\n",
       "      <th>Low</th>\n",
       "      <th>Close</th>\n",
       "      <th>Adj Close</th>\n",
       "    </tr>\n",
       "  </thead>\n",
       "  <tbody>\n",
       "    <tr>\n",
       "      <th>0</th>\n",
       "      <td>7723.529785</td>\n",
       "      <td>7768.600098</td>\n",
       "      <td>7723.529785</td>\n",
       "      <td>7761.040039</td>\n",
       "      <td>7761.040039</td>\n",
       "    </tr>\n",
       "    <tr>\n",
       "      <th>1</th>\n",
       "      <td>7725.029785</td>\n",
       "      <td>7755.720215</td>\n",
       "      <td>7704.339844</td>\n",
       "      <td>7746.379883</td>\n",
       "      <td>7746.379883</td>\n",
       "    </tr>\n",
       "    <tr>\n",
       "      <th>2</th>\n",
       "      <td>7692.959961</td>\n",
       "      <td>7749.359863</td>\n",
       "      <td>7676.830078</td>\n",
       "      <td>7747.029785</td>\n",
       "      <td>7747.029785</td>\n",
       "    </tr>\n",
       "    <tr>\n",
       "      <th>3</th>\n",
       "      <td>7658.470215</td>\n",
       "      <td>7727.410156</td>\n",
       "      <td>7635.729980</td>\n",
       "      <td>7725.589844</td>\n",
       "      <td>7725.589844</td>\n",
       "    </tr>\n",
       "    <tr>\n",
       "      <th>4</th>\n",
       "      <td>7764.149902</td>\n",
       "      <td>7806.600098</td>\n",
       "      <td>7755.479980</td>\n",
       "      <td>7781.509766</td>\n",
       "      <td>7781.509766</td>\n",
       "    </tr>\n",
       "  </tbody>\n",
       "</table>\n",
       "</div>"
      ],
      "text/plain": [
       "          Open         High          Low        Close    Adj Close\n",
       "0  7723.529785  7768.600098  7723.529785  7761.040039  7761.040039\n",
       "1  7725.029785  7755.720215  7704.339844  7746.379883  7746.379883\n",
       "2  7692.959961  7749.359863  7676.830078  7747.029785  7747.029785\n",
       "3  7658.470215  7727.410156  7635.729980  7725.589844  7725.589844\n",
       "4  7764.149902  7806.600098  7755.479980  7781.509766  7781.509766"
      ]
     },
     "execution_count": 7,
     "metadata": {},
     "output_type": "execute_result"
    }
   ],
   "source": [
    "data = nasdaq[predictors].astype('float')\n",
    "# data['Target'] = data['Open'].shift(-14)\n",
    "data.head()"
   ]
  },
  {
   "cell_type": "code",
   "execution_count": 8,
   "metadata": {},
   "outputs": [],
   "source": [
    "train_dates = nasdaq['Date']\n"
   ]
  },
  {
   "cell_type": "markdown",
   "metadata": {},
   "source": [
    "### SCALING THE DATA"
   ]
  },
  {
   "cell_type": "code",
   "execution_count": 9,
   "metadata": {},
   "outputs": [
    {
     "data": {
      "text/plain": [
       "array([[-1.18217812, -1.18949504, -1.15733411, -1.16936247, -1.16936247],\n",
       "       [-1.18161088, -1.19433607, -1.16465427, -1.17491047, -1.17491047],\n",
       "       [-1.19373851, -1.19672667, -1.17514809, -1.17466452, -1.17466452],\n",
       "       ...,\n",
       "       [ 0.93132445,  0.92183972,  0.94289857,  0.91134128,  0.91134128],\n",
       "       [ 0.93661135,  0.95189344,  0.97084039,  0.98808156,  0.98808156],\n",
       "       [ 1.02743114,  1.00018772,  1.0359211 ,  1.03023998,  1.03023998]])"
      ]
     },
     "execution_count": 9,
     "metadata": {},
     "output_type": "execute_result"
    }
   ],
   "source": [
    "scaler = StandardScaler()\n",
    "scaler = scaler.fit(data)\n",
    "data_scaled = scaler.transform(data)\n",
    "\n",
    "data_scaled"
   ]
  },
  {
   "cell_type": "markdown",
   "metadata": {},
   "source": [
    "### Train - Test split"
   ]
  },
  {
   "cell_type": "code",
   "execution_count": 10,
   "metadata": {},
   "outputs": [
    {
     "data": {
      "text/plain": [
       "((1184, 14, 5), (1184, 1), (60, 14, 5), (60, 1))"
      ]
     },
     "execution_count": 10,
     "metadata": {},
     "output_type": "execute_result"
    }
   ],
   "source": [
    "trainX = []\n",
    "trainY = []\n",
    "\n",
    "testX = []\n",
    "testY = []\n",
    "\n",
    "# Train on last two weeks data and validate on the next day's Open price\n",
    "n_future = 1\n",
    "n_past = 14\n",
    "test_length = 60\n",
    "\n",
    "for i in range(n_past, len(data_scaled)-test_length):\n",
    "    trainX.append(data_scaled[i-n_past:i, :6])\n",
    "    trainY.append(data_scaled[i + n_future - 1:i + n_future, 0])\n",
    "\n",
    "for j in range(len(data_scaled)-test_length, len(data_scaled)):\n",
    "    testX.append(data_scaled[j-n_past:j, :6])\n",
    "    testY.append(data_scaled[j:j+1, 0])\n",
    "\n",
    "trainX = np.array(trainX)\n",
    "trainY = np.array(trainY)\n",
    "\n",
    "testX = np.array(testX)\n",
    "testY = np.array(testY)\n",
    "\n",
    "trainX.shape, trainY.shape, testX.shape, testY.shape"
   ]
  },
  {
   "cell_type": "markdown",
   "metadata": {},
   "source": [
    "### AUTOENCODER MODEL"
   ]
  },
  {
   "cell_type": "code",
   "execution_count": 11,
   "metadata": {},
   "outputs": [
    {
     "name": "stdout",
     "output_type": "stream",
     "text": [
      "Model: \"sequential\"\n",
      "_________________________________________________________________\n",
      " Layer (type)                Output Shape              Param #   \n",
      "=================================================================\n",
      " lstm (LSTM)                 (None, 14, 64)            17920     \n",
      "                                                                 \n",
      " lstm_1 (LSTM)               (None, 32)                12416     \n",
      "                                                                 \n",
      " dropout (Dropout)           (None, 32)                0         \n",
      "                                                                 \n",
      " dense (Dense)               (None, 1)                 33        \n",
      "                                                                 \n",
      "=================================================================\n",
      "Total params: 30,369\n",
      "Trainable params: 30,369\n",
      "Non-trainable params: 0\n",
      "_________________________________________________________________\n"
     ]
    }
   ],
   "source": [
    "model = Sequential()\n",
    "model.add(LSTM(64, activation='relu', input_shape=(trainX.shape[1], trainX.shape[2]), return_sequences=True))\n",
    "model.add(LSTM(32, activation='relu', return_sequences=False))\n",
    "model.add(Dropout(0.2))\n",
    "model.add(Dense(trainY.shape[1]))\n",
    "\n",
    "model.compile(optimizer='adam', loss='mse')\n",
    "model.summary()"
   ]
  },
  {
   "cell_type": "markdown",
   "metadata": {},
   "source": [
    "#### FIT MODEL"
   ]
  },
  {
   "cell_type": "code",
   "execution_count": 12,
   "metadata": {},
   "outputs": [],
   "source": [
    "cp = ModelCheckpoint('model/', save_best_only=True)"
   ]
  },
  {
   "cell_type": "code",
   "execution_count": 13,
   "metadata": {
    "scrolled": false
   },
   "outputs": [
    {
     "name": "stdout",
     "output_type": "stream",
     "text": [
      "Epoch 1/50\n",
      "63/67 [===========================>..] - ETA: 0s - loss: 0.2823"
     ]
    },
    {
     "name": "stderr",
     "output_type": "stream",
     "text": [
      "WARNING:absl:Found untraced functions such as _update_step_xla while saving (showing 1 of 1). These functions will not be directly callable after loading.\n"
     ]
    },
    {
     "name": "stdout",
     "output_type": "stream",
     "text": [
      "INFO:tensorflow:Assets written to: model/assets\n"
     ]
    },
    {
     "name": "stderr",
     "output_type": "stream",
     "text": [
      "INFO:tensorflow:Assets written to: model/assets\n"
     ]
    },
    {
     "name": "stdout",
     "output_type": "stream",
     "text": [
      "67/67 [==============================] - 13s 146ms/step - loss: 0.2729 - val_loss: 0.0145\n",
      "Epoch 2/50\n",
      "67/67 [==============================] - 1s 8ms/step - loss: 0.0630 - val_loss: 0.0155\n",
      "Epoch 3/50\n",
      "63/67 [===========================>..] - ETA: 0s - loss: 0.0540"
     ]
    },
    {
     "name": "stderr",
     "output_type": "stream",
     "text": [
      "WARNING:absl:Found untraced functions such as _update_step_xla while saving (showing 1 of 1). These functions will not be directly callable after loading.\n"
     ]
    },
    {
     "name": "stdout",
     "output_type": "stream",
     "text": [
      "INFO:tensorflow:Assets written to: model/assets\n"
     ]
    },
    {
     "name": "stderr",
     "output_type": "stream",
     "text": [
      "INFO:tensorflow:Assets written to: model/assets\n"
     ]
    },
    {
     "name": "stdout",
     "output_type": "stream",
     "text": [
      "67/67 [==============================] - 9s 135ms/step - loss: 0.0532 - val_loss: 0.0127\n",
      "Epoch 4/50\n",
      "67/67 [==============================] - 1s 8ms/step - loss: 0.0476 - val_loss: 0.0137\n",
      "Epoch 5/50\n",
      "63/67 [===========================>..] - ETA: 0s - loss: 0.0465"
     ]
    },
    {
     "name": "stderr",
     "output_type": "stream",
     "text": [
      "WARNING:absl:Found untraced functions such as _update_step_xla while saving (showing 1 of 1). These functions will not be directly callable after loading.\n"
     ]
    },
    {
     "name": "stdout",
     "output_type": "stream",
     "text": [
      "INFO:tensorflow:Assets written to: model/assets\n"
     ]
    },
    {
     "name": "stderr",
     "output_type": "stream",
     "text": [
      "INFO:tensorflow:Assets written to: model/assets\n"
     ]
    },
    {
     "name": "stdout",
     "output_type": "stream",
     "text": [
      "67/67 [==============================] - 9s 134ms/step - loss: 0.0466 - val_loss: 0.0100\n",
      "Epoch 6/50\n",
      "63/67 [===========================>..] - ETA: 0s - loss: 0.0456"
     ]
    },
    {
     "name": "stderr",
     "output_type": "stream",
     "text": [
      "WARNING:absl:Found untraced functions such as _update_step_xla while saving (showing 1 of 1). These functions will not be directly callable after loading.\n"
     ]
    },
    {
     "name": "stdout",
     "output_type": "stream",
     "text": [
      "INFO:tensorflow:Assets written to: model/assets\n"
     ]
    },
    {
     "name": "stderr",
     "output_type": "stream",
     "text": [
      "INFO:tensorflow:Assets written to: model/assets\n"
     ]
    },
    {
     "name": "stdout",
     "output_type": "stream",
     "text": [
      "67/67 [==============================] - 9s 131ms/step - loss: 0.0463 - val_loss: 0.0097\n",
      "Epoch 7/50\n",
      "67/67 [==============================] - 1s 8ms/step - loss: 0.0420 - val_loss: 0.0100\n",
      "Epoch 8/50\n",
      "67/67 [==============================] - 1s 8ms/step - loss: 0.0397 - val_loss: 0.0108\n",
      "Epoch 9/50\n",
      "67/67 [==============================] - ETA: 0s - loss: 0.0396"
     ]
    },
    {
     "name": "stderr",
     "output_type": "stream",
     "text": [
      "WARNING:absl:Found untraced functions such as _update_step_xla while saving (showing 1 of 1). These functions will not be directly callable after loading.\n"
     ]
    },
    {
     "name": "stdout",
     "output_type": "stream",
     "text": [
      "INFO:tensorflow:Assets written to: model/assets\n"
     ]
    },
    {
     "name": "stderr",
     "output_type": "stream",
     "text": [
      "INFO:tensorflow:Assets written to: model/assets\n"
     ]
    },
    {
     "name": "stdout",
     "output_type": "stream",
     "text": [
      "67/67 [==============================] - 9s 133ms/step - loss: 0.0396 - val_loss: 0.0091\n",
      "Epoch 10/50\n",
      "67/67 [==============================] - 1s 9ms/step - loss: 0.0402 - val_loss: 0.0093\n",
      "Epoch 11/50\n",
      "67/67 [==============================] - 1s 8ms/step - loss: 0.0412 - val_loss: 0.0114\n",
      "Epoch 12/50\n",
      "64/67 [===========================>..] - ETA: 0s - loss: 0.0436"
     ]
    },
    {
     "name": "stderr",
     "output_type": "stream",
     "text": [
      "WARNING:absl:Found untraced functions such as _update_step_xla while saving (showing 1 of 1). These functions will not be directly callable after loading.\n"
     ]
    },
    {
     "name": "stdout",
     "output_type": "stream",
     "text": [
      "INFO:tensorflow:Assets written to: model/assets\n"
     ]
    },
    {
     "name": "stderr",
     "output_type": "stream",
     "text": [
      "INFO:tensorflow:Assets written to: model/assets\n"
     ]
    },
    {
     "name": "stdout",
     "output_type": "stream",
     "text": [
      "67/67 [==============================] - 10s 153ms/step - loss: 0.0433 - val_loss: 0.0081\n",
      "Epoch 13/50\n",
      "67/67 [==============================] - ETA: 0s - loss: 0.0392"
     ]
    },
    {
     "name": "stderr",
     "output_type": "stream",
     "text": [
      "WARNING:absl:Found untraced functions such as _update_step_xla while saving (showing 1 of 1). These functions will not be directly callable after loading.\n"
     ]
    },
    {
     "name": "stdout",
     "output_type": "stream",
     "text": [
      "INFO:tensorflow:Assets written to: model/assets\n"
     ]
    },
    {
     "name": "stderr",
     "output_type": "stream",
     "text": [
      "INFO:tensorflow:Assets written to: model/assets\n"
     ]
    },
    {
     "name": "stdout",
     "output_type": "stream",
     "text": [
      "67/67 [==============================] - 9s 142ms/step - loss: 0.0392 - val_loss: 0.0080\n",
      "Epoch 14/50\n",
      "67/67 [==============================] - 1s 8ms/step - loss: 0.0391 - val_loss: 0.0088\n",
      "Epoch 15/50\n",
      "67/67 [==============================] - 1s 8ms/step - loss: 0.0412 - val_loss: 0.0101\n",
      "Epoch 16/50\n",
      "67/67 [==============================] - 1s 8ms/step - loss: 0.0369 - val_loss: 0.0086\n",
      "Epoch 17/50\n",
      "67/67 [==============================] - ETA: 0s - loss: 0.0388"
     ]
    },
    {
     "name": "stderr",
     "output_type": "stream",
     "text": [
      "WARNING:absl:Found untraced functions such as _update_step_xla while saving (showing 1 of 1). These functions will not be directly callable after loading.\n"
     ]
    },
    {
     "name": "stdout",
     "output_type": "stream",
     "text": [
      "INFO:tensorflow:Assets written to: model/assets\n"
     ]
    },
    {
     "name": "stderr",
     "output_type": "stream",
     "text": [
      "INFO:tensorflow:Assets written to: model/assets\n"
     ]
    },
    {
     "name": "stdout",
     "output_type": "stream",
     "text": [
      "67/67 [==============================] - 9s 138ms/step - loss: 0.0388 - val_loss: 0.0079\n",
      "Epoch 18/50\n",
      "67/67 [==============================] - 1s 8ms/step - loss: 0.0426 - val_loss: 0.0107\n",
      "Epoch 19/50\n",
      "66/67 [============================>.] - ETA: 0s - loss: 0.0412"
     ]
    },
    {
     "name": "stderr",
     "output_type": "stream",
     "text": [
      "WARNING:absl:Found untraced functions such as _update_step_xla while saving (showing 1 of 1). These functions will not be directly callable after loading.\n"
     ]
    },
    {
     "name": "stdout",
     "output_type": "stream",
     "text": [
      "INFO:tensorflow:Assets written to: model/assets\n"
     ]
    },
    {
     "name": "stderr",
     "output_type": "stream",
     "text": [
      "INFO:tensorflow:Assets written to: model/assets\n"
     ]
    },
    {
     "name": "stdout",
     "output_type": "stream",
     "text": [
      "67/67 [==============================] - 9s 142ms/step - loss: 0.0411 - val_loss: 0.0079\n",
      "Epoch 20/50\n",
      "64/67 [===========================>..] - ETA: 0s - loss: 0.0392"
     ]
    },
    {
     "name": "stderr",
     "output_type": "stream",
     "text": [
      "WARNING:absl:Found untraced functions such as _update_step_xla while saving (showing 1 of 1). These functions will not be directly callable after loading.\n"
     ]
    },
    {
     "name": "stdout",
     "output_type": "stream",
     "text": [
      "INFO:tensorflow:Assets written to: model/assets\n"
     ]
    },
    {
     "name": "stderr",
     "output_type": "stream",
     "text": [
      "INFO:tensorflow:Assets written to: model/assets\n"
     ]
    },
    {
     "name": "stdout",
     "output_type": "stream",
     "text": [
      "67/67 [==============================] - 10s 147ms/step - loss: 0.0391 - val_loss: 0.0074\n",
      "Epoch 21/50\n",
      "63/67 [===========================>..] - ETA: 0s - loss: 0.0365"
     ]
    },
    {
     "name": "stderr",
     "output_type": "stream",
     "text": [
      "WARNING:absl:Found untraced functions such as _update_step_xla while saving (showing 1 of 1). These functions will not be directly callable after loading.\n"
     ]
    },
    {
     "name": "stdout",
     "output_type": "stream",
     "text": [
      "INFO:tensorflow:Assets written to: model/assets\n"
     ]
    },
    {
     "name": "stderr",
     "output_type": "stream",
     "text": [
      "INFO:tensorflow:Assets written to: model/assets\n"
     ]
    },
    {
     "name": "stdout",
     "output_type": "stream",
     "text": [
      "67/67 [==============================] - 9s 137ms/step - loss: 0.0362 - val_loss: 0.0070\n",
      "Epoch 22/50\n",
      "67/67 [==============================] - 1s 9ms/step - loss: 0.0398 - val_loss: 0.0077\n",
      "Epoch 23/50\n",
      "64/67 [===========================>..] - ETA: 0s - loss: 0.0416"
     ]
    },
    {
     "name": "stderr",
     "output_type": "stream",
     "text": [
      "WARNING:absl:Found untraced functions such as _update_step_xla while saving (showing 1 of 1). These functions will not be directly callable after loading.\n"
     ]
    },
    {
     "name": "stdout",
     "output_type": "stream",
     "text": [
      "INFO:tensorflow:Assets written to: model/assets\n"
     ]
    },
    {
     "name": "stderr",
     "output_type": "stream",
     "text": [
      "INFO:tensorflow:Assets written to: model/assets\n"
     ]
    },
    {
     "name": "stdout",
     "output_type": "stream",
     "text": [
      "67/67 [==============================] - 9s 136ms/step - loss: 0.0415 - val_loss: 0.0067\n",
      "Epoch 24/50\n",
      "67/67 [==============================] - 1s 9ms/step - loss: 0.0348 - val_loss: 0.0070\n",
      "Epoch 25/50\n",
      "67/67 [==============================] - 1s 9ms/step - loss: 0.0375 - val_loss: 0.0078\n",
      "Epoch 26/50\n",
      "67/67 [==============================] - 1s 8ms/step - loss: 0.0346 - val_loss: 0.0076\n",
      "Epoch 27/50\n",
      "64/67 [===========================>..] - ETA: 0s - loss: 0.0364"
     ]
    },
    {
     "name": "stderr",
     "output_type": "stream",
     "text": [
      "WARNING:absl:Found untraced functions such as _update_step_xla while saving (showing 1 of 1). These functions will not be directly callable after loading.\n"
     ]
    },
    {
     "name": "stdout",
     "output_type": "stream",
     "text": [
      "INFO:tensorflow:Assets written to: model/assets\n"
     ]
    },
    {
     "name": "stderr",
     "output_type": "stream",
     "text": [
      "INFO:tensorflow:Assets written to: model/assets\n"
     ]
    },
    {
     "name": "stdout",
     "output_type": "stream",
     "text": [
      "67/67 [==============================] - 9s 141ms/step - loss: 0.0373 - val_loss: 0.0063\n",
      "Epoch 28/50\n",
      "67/67 [==============================] - 1s 8ms/step - loss: 0.0343 - val_loss: 0.0069\n",
      "Epoch 29/50\n",
      "63/67 [===========================>..] - ETA: 0s - loss: 0.0393"
     ]
    },
    {
     "name": "stderr",
     "output_type": "stream",
     "text": [
      "WARNING:absl:Found untraced functions such as _update_step_xla while saving (showing 1 of 1). These functions will not be directly callable after loading.\n"
     ]
    },
    {
     "name": "stdout",
     "output_type": "stream",
     "text": [
      "INFO:tensorflow:Assets written to: model/assets\n"
     ]
    },
    {
     "name": "stderr",
     "output_type": "stream",
     "text": [
      "INFO:tensorflow:Assets written to: model/assets\n"
     ]
    },
    {
     "name": "stdout",
     "output_type": "stream",
     "text": [
      "67/67 [==============================] - 9s 141ms/step - loss: 0.0389 - val_loss: 0.0056\n",
      "Epoch 30/50\n",
      "67/67 [==============================] - 1s 8ms/step - loss: 0.0350 - val_loss: 0.0058\n",
      "Epoch 31/50\n",
      "67/67 [==============================] - 1s 8ms/step - loss: 0.0367 - val_loss: 0.0062\n",
      "Epoch 32/50\n",
      "63/67 [===========================>..] - ETA: 0s - loss: 0.0371"
     ]
    },
    {
     "name": "stderr",
     "output_type": "stream",
     "text": [
      "WARNING:absl:Found untraced functions such as _update_step_xla while saving (showing 1 of 1). These functions will not be directly callable after loading.\n"
     ]
    },
    {
     "name": "stdout",
     "output_type": "stream",
     "text": [
      "INFO:tensorflow:Assets written to: model/assets\n"
     ]
    },
    {
     "name": "stderr",
     "output_type": "stream",
     "text": [
      "INFO:tensorflow:Assets written to: model/assets\n"
     ]
    },
    {
     "name": "stdout",
     "output_type": "stream",
     "text": [
      "67/67 [==============================] - 9s 143ms/step - loss: 0.0366 - val_loss: 0.0054\n",
      "Epoch 33/50\n",
      "63/67 [===========================>..] - ETA: 0s - loss: 0.0375"
     ]
    },
    {
     "name": "stderr",
     "output_type": "stream",
     "text": [
      "WARNING:absl:Found untraced functions such as _update_step_xla while saving (showing 1 of 1). These functions will not be directly callable after loading.\n"
     ]
    },
    {
     "name": "stdout",
     "output_type": "stream",
     "text": [
      "INFO:tensorflow:Assets written to: model/assets\n"
     ]
    },
    {
     "name": "stderr",
     "output_type": "stream",
     "text": [
      "INFO:tensorflow:Assets written to: model/assets\n"
     ]
    },
    {
     "name": "stdout",
     "output_type": "stream",
     "text": [
      "67/67 [==============================] - 9s 135ms/step - loss: 0.0377 - val_loss: 0.0053\n",
      "Epoch 34/50\n",
      "66/67 [============================>.] - ETA: 0s - loss: 0.0346"
     ]
    },
    {
     "name": "stderr",
     "output_type": "stream",
     "text": [
      "WARNING:absl:Found untraced functions such as _update_step_xla while saving (showing 1 of 1). These functions will not be directly callable after loading.\n"
     ]
    },
    {
     "name": "stdout",
     "output_type": "stream",
     "text": [
      "INFO:tensorflow:Assets written to: model/assets\n"
     ]
    },
    {
     "name": "stderr",
     "output_type": "stream",
     "text": [
      "INFO:tensorflow:Assets written to: model/assets\n"
     ]
    },
    {
     "name": "stdout",
     "output_type": "stream",
     "text": [
      "67/67 [==============================] - 9s 139ms/step - loss: 0.0348 - val_loss: 0.0045\n",
      "Epoch 35/50\n",
      "67/67 [==============================] - 1s 10ms/step - loss: 0.0311 - val_loss: 0.0062\n",
      "Epoch 36/50\n",
      "67/67 [==============================] - 1s 9ms/step - loss: 0.0339 - val_loss: 0.0055\n",
      "Epoch 37/50\n",
      "67/67 [==============================] - 1s 8ms/step - loss: 0.0344 - val_loss: 0.0046\n",
      "Epoch 38/50\n",
      "65/67 [============================>.] - ETA: 0s - loss: 0.0347"
     ]
    },
    {
     "name": "stderr",
     "output_type": "stream",
     "text": [
      "WARNING:absl:Found untraced functions such as _update_step_xla while saving (showing 1 of 1). These functions will not be directly callable after loading.\n"
     ]
    },
    {
     "name": "stdout",
     "output_type": "stream",
     "text": [
      "INFO:tensorflow:Assets written to: model/assets\n"
     ]
    },
    {
     "name": "stderr",
     "output_type": "stream",
     "text": [
      "INFO:tensorflow:Assets written to: model/assets\n"
     ]
    },
    {
     "name": "stdout",
     "output_type": "stream",
     "text": [
      "67/67 [==============================] - 9s 141ms/step - loss: 0.0346 - val_loss: 0.0042\n",
      "Epoch 39/50\n",
      "67/67 [==============================] - 1s 8ms/step - loss: 0.0363 - val_loss: 0.0057\n",
      "Epoch 40/50\n",
      "67/67 [==============================] - 1s 8ms/step - loss: 0.0389 - val_loss: 0.0086\n",
      "Epoch 41/50\n",
      "63/67 [===========================>..] - ETA: 0s - loss: 0.0413"
     ]
    },
    {
     "name": "stderr",
     "output_type": "stream",
     "text": [
      "WARNING:absl:Found untraced functions such as _update_step_xla while saving (showing 1 of 1). These functions will not be directly callable after loading.\n"
     ]
    },
    {
     "name": "stdout",
     "output_type": "stream",
     "text": [
      "INFO:tensorflow:Assets written to: model/assets\n"
     ]
    },
    {
     "name": "stderr",
     "output_type": "stream",
     "text": [
      "INFO:tensorflow:Assets written to: model/assets\n"
     ]
    },
    {
     "name": "stdout",
     "output_type": "stream",
     "text": [
      "67/67 [==============================] - 9s 135ms/step - loss: 0.0410 - val_loss: 0.0042\n",
      "Epoch 42/50\n",
      "67/67 [==============================] - 1s 8ms/step - loss: 0.0330 - val_loss: 0.0042\n",
      "Epoch 43/50\n",
      "64/67 [===========================>..] - ETA: 0s - loss: 0.0354"
     ]
    },
    {
     "name": "stderr",
     "output_type": "stream",
     "text": [
      "WARNING:absl:Found untraced functions such as _update_step_xla while saving (showing 1 of 1). These functions will not be directly callable after loading.\n"
     ]
    },
    {
     "name": "stdout",
     "output_type": "stream",
     "text": [
      "INFO:tensorflow:Assets written to: model/assets\n"
     ]
    },
    {
     "name": "stderr",
     "output_type": "stream",
     "text": [
      "INFO:tensorflow:Assets written to: model/assets\n"
     ]
    },
    {
     "name": "stdout",
     "output_type": "stream",
     "text": [
      "67/67 [==============================] - 9s 143ms/step - loss: 0.0352 - val_loss: 0.0039\n",
      "Epoch 44/50\n",
      "67/67 [==============================] - 1s 8ms/step - loss: 0.0325 - val_loss: 0.0053\n",
      "Epoch 45/50\n",
      "67/67 [==============================] - ETA: 0s - loss: 0.0330"
     ]
    },
    {
     "name": "stderr",
     "output_type": "stream",
     "text": [
      "WARNING:absl:Found untraced functions such as _update_step_xla while saving (showing 1 of 1). These functions will not be directly callable after loading.\n"
     ]
    },
    {
     "name": "stdout",
     "output_type": "stream",
     "text": [
      "INFO:tensorflow:Assets written to: model/assets\n"
     ]
    },
    {
     "name": "stderr",
     "output_type": "stream",
     "text": [
      "INFO:tensorflow:Assets written to: model/assets\n"
     ]
    },
    {
     "name": "stdout",
     "output_type": "stream",
     "text": [
      "67/67 [==============================] - 9s 142ms/step - loss: 0.0330 - val_loss: 0.0035\n",
      "Epoch 46/50\n",
      "67/67 [==============================] - 1s 8ms/step - loss: 0.0341 - val_loss: 0.0038\n",
      "Epoch 47/50\n",
      "67/67 [==============================] - ETA: 0s - loss: 0.0345"
     ]
    },
    {
     "name": "stderr",
     "output_type": "stream",
     "text": [
      "WARNING:absl:Found untraced functions such as _update_step_xla while saving (showing 1 of 1). These functions will not be directly callable after loading.\n"
     ]
    },
    {
     "name": "stdout",
     "output_type": "stream",
     "text": [
      "INFO:tensorflow:Assets written to: model/assets\n"
     ]
    },
    {
     "name": "stderr",
     "output_type": "stream",
     "text": [
      "INFO:tensorflow:Assets written to: model/assets\n"
     ]
    },
    {
     "name": "stdout",
     "output_type": "stream",
     "text": [
      "67/67 [==============================] - 9s 143ms/step - loss: 0.0345 - val_loss: 0.0035\n",
      "Epoch 48/50\n",
      "67/67 [==============================] - 1s 8ms/step - loss: 0.0311 - val_loss: 0.0036\n",
      "Epoch 49/50\n",
      "67/67 [==============================] - 1s 8ms/step - loss: 0.0329 - val_loss: 0.0049\n",
      "Epoch 50/50\n",
      "62/67 [==========================>...] - ETA: 0s - loss: 0.0337"
     ]
    },
    {
     "name": "stderr",
     "output_type": "stream",
     "text": [
      "WARNING:absl:Found untraced functions such as _update_step_xla while saving (showing 1 of 1). These functions will not be directly callable after loading.\n"
     ]
    },
    {
     "name": "stdout",
     "output_type": "stream",
     "text": [
      "INFO:tensorflow:Assets written to: model/assets\n"
     ]
    },
    {
     "name": "stderr",
     "output_type": "stream",
     "text": [
      "INFO:tensorflow:Assets written to: model/assets\n"
     ]
    },
    {
     "name": "stdout",
     "output_type": "stream",
     "text": [
      "\b\b\b\b\b\b\b\b\b\b\b\b\b\b\b\b\b\b\b\b\b\b\b\b\b\b\b\b\b\b\b\b\b\b\b\b\b\b\b\b\b\b\b\b\b\b\b\b\b\b\b\b\b\b\b\b\b\b\b\b\b\b\b\r",
      "67/67 [==============================] - 9s 134ms/step - loss: 0.0335 - val_loss: 0.0031\n"
     ]
    }
   ],
   "source": [
    "history = model.fit(trainX, trainY, epochs=50, batch_size=16, validation_split=0.1, verbose=1, callbacks=[cp])"
   ]
  },
  {
   "cell_type": "code",
   "execution_count": 14,
   "metadata": {},
   "outputs": [
    {
     "data": {
      "image/png": "[encoded data removed]",
      "text/plain": [
       "<Figure size 432x288 with 1 Axes>"
      ]
     },
     "metadata": {
      "needs_background": "light"
     },
     "output_type": "display_data"
    }
   ],
   "source": [
    "plt.plot(history.history['loss'], label='Training')\n",
    "plt.plot(history.history['val_loss'], label='Validation')\n",
    "plt.show()"
   ]
  },
  {
   "cell_type": "markdown",
   "metadata": {},
   "source": [
    "#### MODEL FORECAST / PREDICTION"
   ]
  },
  {
   "cell_type": "code",
   "execution_count": 15,
   "metadata": {},
   "outputs": [
    {
     "name": "stdout",
     "output_type": "stream",
     "text": [
      "2/2 [==============================] - 0s 5ms/step\n"
     ]
    }
   ],
   "source": [
    "forecast = model.predict(testX)"
   ]
  },
  {
   "cell_type": "code",
   "execution_count": 16,
   "metadata": {},
   "outputs": [
    {
     "data": {
      "text/plain": [
       "array([11589.228 , 11609.593 , 11718.758 , 11710.565 , 11735.488 ,\n",
       "       11735.825 , 11737.535 , 11681.95  , 11787.94  , 11894.1   ,\n",
       "       12025.134 , 12081.811 , 12080.715 , 11978.82  , 11970.64  ,\n",
       "       11976.065 , 11976.316 , 11930.421 , 12017.879 , 12048.492 ,\n",
       "       12066.058 , 12092.876 , 12079.489 , 12022.46  , 11999.987 ,\n",
       "       11978.304 , 11835.053 , 11814.392 , 11963.374 , 12078.064 ,\n",
       "       12132.09  , 12064.782 , 12014.09  , 11936.56  , 12067.049 ,\n",
       "       12146.139 , 12131.77  , 12192.427 , 12234.682 , 12226.481 ,\n",
       "       12261.272 , 12279.146 , 12355.244 , 12474.951 , 12542.373 ,\n",
       "       12595.955 , 12550.24  , 12441.765 , 12545.482 , 12701.78  ,\n",
       "       12829.412 , 12841.229 , 12911.143 , 13023.546 , 13083.1045,\n",
       "       13119.958 , 13079.108 , 13100.647 , 13146.875 , 13249.3545],\n",
       "      dtype=float32)"
      ]
     },
     "execution_count": 16,
     "metadata": {},
     "output_type": "execute_result"
    }
   ],
   "source": [
    "forecast_copies = np.repeat(forecast, data.shape[1], axis=-1)\n",
    "\n",
    "y_pred_future = scaler.inverse_transform(forecast_copies)[:,0]\n",
    "\n",
    "y_pred_future"
   ]
  },
  {
   "cell_type": "code",
   "execution_count": 17,
   "metadata": {},
   "outputs": [],
   "source": [
    "forecast_period_dates = list(train_dates)[-test_length:]\n",
    "forecast_dates = []\n",
    "for time_i in forecast_period_dates:\n",
    "    forecast_dates.append(time_i.date())\n",
    "\n",
    "data_forecast = pd.DataFrame({'Date':np.array(forecast_dates), 'Predicted Close':y_pred_future, 'Actual Open':data['Open'].tail(test_length)})"
   ]
  },
  {
   "cell_type": "code",
   "execution_count": 18,
   "metadata": {},
   "outputs": [
    {
     "data": {
      "text/html": [
       "<div>\n",
       "<style scoped>\n",
       "    .dataframe tbody tr th:only-of-type {\n",
       "        vertical-align: middle;\n",
       "    }\n",
       "\n",
       "    .dataframe tbody tr th {\n",
       "        vertical-align: top;\n",
       "    }\n",
       "\n",
       "    .dataframe thead th {\n",
       "        text-align: right;\n",
       "    }\n",
       "</style>\n",
       "<table border=\"1\" class=\"dataframe\">\n",
       "  <thead>\n",
       "    <tr style=\"text-align: right;\">\n",
       "      <th></th>\n",
       "      <th>Date</th>\n",
       "      <th>Predicted Close</th>\n",
       "      <th>Actual Open</th>\n",
       "    </tr>\n",
       "    <tr>\n",
       "      <th>Date</th>\n",
       "      <th></th>\n",
       "      <th></th>\n",
       "      <th></th>\n",
       "    </tr>\n",
       "  </thead>\n",
       "  <tbody>\n",
       "    <tr>\n",
       "      <th>2023-03-20</th>\n",
       "      <td>2023-03-20</td>\n",
       "      <td>11589.227539</td>\n",
       "      <td>11614.389648</td>\n",
       "    </tr>\n",
       "    <tr>\n",
       "      <th>2023-03-21</th>\n",
       "      <td>2023-03-21</td>\n",
       "      <td>11609.592773</td>\n",
       "      <td>11764.790039</td>\n",
       "    </tr>\n",
       "    <tr>\n",
       "      <th>2023-03-22</th>\n",
       "      <td>2023-03-22</td>\n",
       "      <td>11718.757812</td>\n",
       "      <td>11857.500000</td>\n",
       "    </tr>\n",
       "    <tr>\n",
       "      <th>2023-03-23</th>\n",
       "      <td>2023-03-23</td>\n",
       "      <td>11710.565430</td>\n",
       "      <td>11811.320313</td>\n",
       "    </tr>\n",
       "    <tr>\n",
       "      <th>2023-03-24</th>\n",
       "      <td>2023-03-24</td>\n",
       "      <td>11735.488281</td>\n",
       "      <td>11747.620117</td>\n",
       "    </tr>\n",
       "  </tbody>\n",
       "</table>\n",
       "</div>"
      ],
      "text/plain": [
       "                  Date  Predicted Close   Actual Open\n",
       "Date                                                 \n",
       "2023-03-20  2023-03-20     11589.227539  11614.389648\n",
       "2023-03-21  2023-03-21     11609.592773  11764.790039\n",
       "2023-03-22  2023-03-22     11718.757812  11857.500000\n",
       "2023-03-23  2023-03-23     11710.565430  11811.320313\n",
       "2023-03-24  2023-03-24     11735.488281  11747.620117"
      ]
     },
     "execution_count": 18,
     "metadata": {},
     "output_type": "execute_result"
    }
   ],
   "source": [
    "data_forecast.index = data_forecast['Date']\n",
    "data_forecast.head()"
   ]
  },
  {
   "cell_type": "code",
   "execution_count": 19,
   "metadata": {},
   "outputs": [
    {
     "data": {
      "image/png": "[encoded data removed]",
      "text/plain": [
       "<Figure size 432x288 with 1 Axes>"
      ]
     },
     "metadata": {
      "needs_background": "light"
     },
     "output_type": "display_data"
    }
   ],
   "source": [
    "data_forecast.plot();"
   ]
  },
  {
   "cell_type": "markdown",
   "metadata": {},
   "source": [
    "## OBSERVATION: \n",
    "###  - Even though the model is not near identical to the actual price,  from the plot above it is evident that it is quite effective in detecting the trend (rise / fall) of the stock value. \n",
    "###  - Converting the model to a classification task of \"Will the price increase the next day?\" should result in improved effectiveness. \n",
    "### - Additionally, training for more epochs in addition to training on more data (10 years data) could prove effctive."
   ]
  },
  {
   "cell_type": "code",
   "execution_count": null,
   "metadata": {},
   "outputs": [],
   "source": []
  },
  {
   "cell_type": "code",
   "execution_count": null,
   "metadata": {},
   "outputs": [],
   "source": []
  }
 ],
 "metadata": {
  "kernelspec": {
   "display_name": "Python 3",
   "language": "python",
   "name": "python3"
  },
  "language_info": {
   "codemirror_mode": {
    "name": "ipython",
    "version": 3
   },
   "file_extension": ".py",
   "mimetype": "text/x-python",
   "name": "python",
   "nbconvert_exporter": "python",
   "pygments_lexer": "ipython3",
   "version": "3.8.5"
  }
 },
 "nbformat": 4,
 "nbformat_minor": 4
}
