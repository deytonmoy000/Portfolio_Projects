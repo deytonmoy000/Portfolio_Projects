{
 "cells": [
  {
   "cell_type": "markdown",
   "metadata": {},
   "source": [
    "# MULTIVARIATE STOCK VALUE PREDICTION USING LONG-SHORT-TERM-MEMORY (LSTM)"
   ]
  },
  {
   "cell_type": "markdown",
   "metadata": {},
   "source": [
    "##### NASDAQ data source: \"https://finance.yahoo.com/quote/%5EIXIC/history?p=%5EIXIC\""
   ]
  },
  {
   "cell_type": "markdown",
   "metadata": {},
   "source": [
    "### IMPORT LIBRARIES"
   ]
  },
  {
   "cell_type": "code",
   "execution_count": 1,
   "metadata": {},
   "outputs": [],
   "source": [
    "import pandas as pd\n",
    "import numpy as np\n",
    "from keras.models import Sequential, load_model\n",
    "from keras.layers import LSTM, Dense, Dropout\n",
    "from keras.callbacks import ModelCheckpoint\n",
    "from sklearn.preprocessing import StandardScaler\n",
    "import matplotlib.pyplot as plt\n",
    "import seaborn as sns"
   ]
  },
  {
   "cell_type": "markdown",
   "metadata": {},
   "source": [
    "### LOAD NASDAQ DATA"
   ]
  },
  {
   "cell_type": "code",
   "execution_count": 2,
   "metadata": {},
   "outputs": [
    {
     "data": {
      "text/html": [
       "<div>\n",
       "<style scoped>\n",
       "    .dataframe tbody tr th:only-of-type {\n",
       "        vertical-align: middle;\n",
       "    }\n",
       "\n",
       "    .dataframe tbody tr th {\n",
       "        vertical-align: top;\n",
       "    }\n",
       "\n",
       "    .dataframe thead th {\n",
       "        text-align: right;\n",
       "    }\n",
       "</style>\n",
       "<table border=\"1\" class=\"dataframe\">\n",
       "  <thead>\n",
       "    <tr style=\"text-align: right;\">\n",
       "      <th></th>\n",
       "      <th>Date</th>\n",
       "      <th>Open</th>\n",
       "      <th>High</th>\n",
       "      <th>Low</th>\n",
       "      <th>Close</th>\n",
       "      <th>Adj Close</th>\n",
       "      <th>Volume</th>\n",
       "    </tr>\n",
       "  </thead>\n",
       "  <tbody>\n",
       "    <tr>\n",
       "      <th>247</th>\n",
       "      <td>2023-06-08</td>\n",
       "      <td>13113.269531</td>\n",
       "      <td>13248.599609</td>\n",
       "      <td>13101.179688</td>\n",
       "      <td>13238.519531</td>\n",
       "      <td>13238.519531</td>\n",
       "      <td>4280160000</td>\n",
       "    </tr>\n",
       "    <tr>\n",
       "      <th>248</th>\n",
       "      <td>2023-06-09</td>\n",
       "      <td>13312.389648</td>\n",
       "      <td>13385.950195</td>\n",
       "      <td>13229.330078</td>\n",
       "      <td>13259.139648</td>\n",
       "      <td>13259.139648</td>\n",
       "      <td>4412710000</td>\n",
       "    </tr>\n",
       "    <tr>\n",
       "      <th>249</th>\n",
       "      <td>2023-06-12</td>\n",
       "      <td>13326.370117</td>\n",
       "      <td>13465.910156</td>\n",
       "      <td>13302.580078</td>\n",
       "      <td>13461.919922</td>\n",
       "      <td>13461.919922</td>\n",
       "      <td>4722680000</td>\n",
       "    </tr>\n",
       "    <tr>\n",
       "      <th>250</th>\n",
       "      <td>2023-06-13</td>\n",
       "      <td>13566.530273</td>\n",
       "      <td>13594.400391</td>\n",
       "      <td>13473.190430</td>\n",
       "      <td>13573.320313</td>\n",
       "      <td>13573.320313</td>\n",
       "      <td>5522100000</td>\n",
       "    </tr>\n",
       "    <tr>\n",
       "      <th>251</th>\n",
       "      <td>2023-06-14</td>\n",
       "      <td>13570.599609</td>\n",
       "      <td>13661.735352</td>\n",
       "      <td>13507.739258</td>\n",
       "      <td>13508.669922</td>\n",
       "      <td>13508.669922</td>\n",
       "      <td>3306603000</td>\n",
       "    </tr>\n",
       "  </tbody>\n",
       "</table>\n",
       "</div>"
      ],
      "text/plain": [
       "           Date          Open          High           Low         Close  \\\n",
       "247  2023-06-08  13113.269531  13248.599609  13101.179688  13238.519531   \n",
       "248  2023-06-09  13312.389648  13385.950195  13229.330078  13259.139648   \n",
       "249  2023-06-12  13326.370117  13465.910156  13302.580078  13461.919922   \n",
       "250  2023-06-13  13566.530273  13594.400391  13473.190430  13573.320313   \n",
       "251  2023-06-14  13570.599609  13661.735352  13507.739258  13508.669922   \n",
       "\n",
       "        Adj Close      Volume  \n",
       "247  13238.519531  4280160000  \n",
       "248  13259.139648  4412710000  \n",
       "249  13461.919922  4722680000  \n",
       "250  13573.320313  5522100000  \n",
       "251  13508.669922  3306603000  "
      ]
     },
     "execution_count": 2,
     "metadata": {},
     "output_type": "execute_result"
    }
   ],
   "source": [
    "nasdaq = pd.read_csv('nasdaq5Y.csv')\n",
    "nasdaq.tail()"
   ]
  },
  {
   "cell_type": "markdown",
   "metadata": {},
   "source": [
    "### DATA CLEANING"
   ]
  },
  {
   "cell_type": "code",
   "execution_count": 3,
   "metadata": {},
   "outputs": [
    {
     "data": {
      "image/png": "[encoded data removed]",
      "text/plain": [
       "<Figure size 432x288 with 1 Axes>"
      ]
     },
     "metadata": {
      "needs_background": "light"
     },
     "output_type": "display_data"
    }
   ],
   "source": [
    "nasdaq['Date'] = pd.to_datetime(nasdaq['Date'])\n",
    "nasdaq.plot.line(y=\"Close\", x='Date');"
   ]
  },
  {
   "cell_type": "code",
   "execution_count": 4,
   "metadata": {
    "scrolled": true
   },
   "outputs": [
    {
     "data": {
      "text/plain": [
       "Date         datetime64[ns]\n",
       "Open                float64\n",
       "High                float64\n",
       "Low                 float64\n",
       "Close               float64\n",
       "Adj Close           float64\n",
       "Volume                int64\n",
       "dtype: object"
      ]
     },
     "execution_count": 4,
     "metadata": {},
     "output_type": "execute_result"
    }
   ],
   "source": [
    "nasdaq.dtypes"
   ]
  },
  {
   "cell_type": "code",
   "execution_count": 5,
   "metadata": {},
   "outputs": [],
   "source": [
    "# nasdaq['Target'] = nasdaq['Open'].shift(-1)\n",
    "# nasdaq.head()"
   ]
  },
  {
   "cell_type": "code",
   "execution_count": 6,
   "metadata": {},
   "outputs": [
    {
     "data": {
      "text/plain": [
       "['Open', 'High', 'Low', 'Close', 'Adj Close']"
      ]
     },
     "execution_count": 6,
     "metadata": {},
     "output_type": "execute_result"
    }
   ],
   "source": [
    "predictors = list(nasdaq)[1:6]\n",
    "predictors"
   ]
  },
  {
   "cell_type": "code",
   "execution_count": 7,
   "metadata": {
    "scrolled": false
   },
   "outputs": [
    {
     "data": {
      "text/html": [
       "<div>\n",
       "<style scoped>\n",
       "    .dataframe tbody tr th:only-of-type {\n",
       "        vertical-align: middle;\n",
       "    }\n",
       "\n",
       "    .dataframe tbody tr th {\n",
       "        vertical-align: top;\n",
       "    }\n",
       "\n",
       "    .dataframe thead th {\n",
       "        text-align: right;\n",
       "    }\n",
       "</style>\n",
       "<table border=\"1\" class=\"dataframe\">\n",
       "  <thead>\n",
       "    <tr style=\"text-align: right;\">\n",
       "      <th></th>\n",
       "      <th>Open</th>\n",
       "      <th>High</th>\n",
       "      <th>Low</th>\n",
       "      <th>Close</th>\n",
       "      <th>Adj Close</th>\n",
       "    </tr>\n",
       "  </thead>\n",
       "  <tbody>\n",
       "    <tr>\n",
       "      <th>0</th>\n",
       "      <td>10897.429688</td>\n",
       "      <td>10926.809570</td>\n",
       "      <td>10733.040039</td>\n",
       "      <td>10828.349609</td>\n",
       "      <td>10828.349609</td>\n",
       "    </tr>\n",
       "    <tr>\n",
       "      <th>1</th>\n",
       "      <td>10968.400391</td>\n",
       "      <td>11244.259766</td>\n",
       "      <td>10866.389648</td>\n",
       "      <td>11099.150391</td>\n",
       "      <td>11099.150391</td>\n",
       "    </tr>\n",
       "    <tr>\n",
       "      <th>2</th>\n",
       "      <td>10806.019531</td>\n",
       "      <td>10831.070313</td>\n",
       "      <td>10565.139648</td>\n",
       "      <td>10646.099609</td>\n",
       "      <td>10646.099609</td>\n",
       "    </tr>\n",
       "    <tr>\n",
       "      <th>3</th>\n",
       "      <td>10697.549805</td>\n",
       "      <td>10884.709961</td>\n",
       "      <td>10638.719727</td>\n",
       "      <td>10798.349609</td>\n",
       "      <td>10798.349609</td>\n",
       "    </tr>\n",
       "    <tr>\n",
       "      <th>4</th>\n",
       "      <td>10974.049805</td>\n",
       "      <td>11164.990234</td>\n",
       "      <td>10974.049805</td>\n",
       "      <td>11069.299805</td>\n",
       "      <td>11069.299805</td>\n",
       "    </tr>\n",
       "  </tbody>\n",
       "</table>\n",
       "</div>"
      ],
      "text/plain": [
       "           Open          High           Low         Close     Adj Close\n",
       "0  10897.429688  10926.809570  10733.040039  10828.349609  10828.349609\n",
       "1  10968.400391  11244.259766  10866.389648  11099.150391  11099.150391\n",
       "2  10806.019531  10831.070313  10565.139648  10646.099609  10646.099609\n",
       "3  10697.549805  10884.709961  10638.719727  10798.349609  10798.349609\n",
       "4  10974.049805  11164.990234  10974.049805  11069.299805  11069.299805"
      ]
     },
     "execution_count": 7,
     "metadata": {},
     "output_type": "execute_result"
    }
   ],
   "source": [
    "data = nasdaq[predictors].astype('float')\n",
    "# data['Target'] = data['Open'].shift(-14)\n",
    "data.head()"
   ]
  },
  {
   "cell_type": "code",
   "execution_count": 8,
   "metadata": {},
   "outputs": [],
   "source": [
    "train_dates = nasdaq['Date']\n"
   ]
  },
  {
   "cell_type": "markdown",
   "metadata": {},
   "source": [
    "### SCALING THE DATA"
   ]
  },
  {
   "cell_type": "code",
   "execution_count": 9,
   "metadata": {},
   "outputs": [
    {
     "data": {
      "text/plain": [
       "array([[-0.95420217, -1.07611399, -1.02040274, -1.05355485, -1.05355485],\n",
       "       [-0.85832406, -0.64200517, -0.8437719 , -0.69133927, -0.69133927],\n",
       "       [-1.07769304, -1.20703612, -1.2427985 , -1.29732738, -1.29732738],\n",
       "       ...,\n",
       "       [ 2.3271833 ,  2.3960715 ,  2.383132  ,  2.46903545,  2.46903545],\n",
       "       [ 2.6516285 ,  2.57178014,  2.60911729,  2.61804151,  2.61804151],\n",
       "       [ 2.65712598,  2.66385979,  2.65487962,  2.53156695,  2.53156695]])"
      ]
     },
     "execution_count": 9,
     "metadata": {},
     "output_type": "execute_result"
    }
   ],
   "source": [
    "scaler = StandardScaler()\n",
    "scaler = scaler.fit(data)\n",
    "data_scaled = scaler.transform(data)\n",
    "\n",
    "data_scaled"
   ]
  },
  {
   "cell_type": "markdown",
   "metadata": {},
   "source": [
    "### Train - Test split"
   ]
  },
  {
   "cell_type": "code",
   "execution_count": 10,
   "metadata": {},
   "outputs": [
    {
     "data": {
      "text/plain": [
       "((188, 14, 5), (188, 1), (50, 14, 5), (50, 1))"
      ]
     },
     "execution_count": 10,
     "metadata": {},
     "output_type": "execute_result"
    }
   ],
   "source": [
    "trainX = []\n",
    "trainY = []\n",
    "\n",
    "testX = []\n",
    "testY = []\n",
    "\n",
    "# Train on last two weeks data and validate on the next day's Open price\n",
    "n_future = 1\n",
    "n_past = 14\n",
    "test_length = 50\n",
    "\n",
    "for i in range(n_past, len(data_scaled)-test_length):\n",
    "    trainX.append(data_scaled[i-n_past:i, :6])\n",
    "    trainY.append(data_scaled[i + n_future - 1:i + n_future, 3])\n",
    "\n",
    "for j in range(len(data_scaled)-test_length, len(data_scaled)):\n",
    "    testX.append(data_scaled[j-n_past:j, :6])\n",
    "    testY.append(data_scaled[j:j+1, 3])\n",
    "\n",
    "trainX = np.array(trainX)\n",
    "trainY = np.array(trainY)\n",
    "\n",
    "testX = np.array(testX)\n",
    "testY = np.array(testY)\n",
    "\n",
    "trainX.shape, trainY.shape, testX.shape, testY.shape"
   ]
  },
  {
   "cell_type": "markdown",
   "metadata": {},
   "source": [
    "### AUTOENCODER MODEL"
   ]
  },
  {
   "cell_type": "code",
   "execution_count": 24,
   "metadata": {},
   "outputs": [
    {
     "name": "stdout",
     "output_type": "stream",
     "text": [
      "Model: \"sequential_1\"\n",
      "_________________________________________________________________\n",
      " Layer (type)                Output Shape              Param #   \n",
      "=================================================================\n",
      " lstm_2 (LSTM)               (None, 14, 64)            17920     \n",
      "                                                                 \n",
      " lstm_3 (LSTM)               (None, 32)                12416     \n",
      "                                                                 \n",
      " dropout_1 (Dropout)         (None, 32)                0         \n",
      "                                                                 \n",
      " dense_1 (Dense)             (None, 1)                 33        \n",
      "                                                                 \n",
      "=================================================================\n",
      "Total params: 30,369\n",
      "Trainable params: 30,369\n",
      "Non-trainable params: 0\n",
      "_________________________________________________________________\n"
     ]
    }
   ],
   "source": [
    "model = Sequential()\n",
    "model.add(LSTM(64, activation='relu', input_shape=(trainX.shape[1], trainX.shape[2]), return_sequences=True))\n",
    "model.add(LSTM(32, activation='relu', return_sequences=False))\n",
    "model.add(Dropout(0.2))\n",
    "model.add(Dense(trainY.shape[1]))\n",
    "\n",
    "model.compile(optimizer='adam', loss='mse')\n",
    "model.summary()"
   ]
  },
  {
   "cell_type": "markdown",
   "metadata": {},
   "source": [
    "#### FIT MODEL"
   ]
  },
  {
   "cell_type": "code",
   "execution_count": 25,
   "metadata": {},
   "outputs": [],
   "source": [
    "cp = ModelCheckpoint('model/', save_best_only=True)"
   ]
  },
  {
   "cell_type": "code",
   "execution_count": 26,
   "metadata": {
    "scrolled": false
   },
   "outputs": [
    {
     "name": "stdout",
     "output_type": "stream",
     "text": [
      "Epoch 1/50\n",
      " 6/11 [===============>..............] - ETA: 0s - loss: 0.8727 "
     ]
    },
    {
     "name": "stderr",
     "output_type": "stream",
     "text": [
      "WARNING:absl:Found untraced functions such as _update_step_xla while saving (showing 1 of 1). These functions will not be directly callable after loading.\n"
     ]
    },
    {
     "name": "stdout",
     "output_type": "stream",
     "text": [
      "INFO:tensorflow:Assets written to: model/assets\n"
     ]
    },
    {
     "name": "stderr",
     "output_type": "stream",
     "text": [
      "INFO:tensorflow:Assets written to: model/assets\n"
     ]
    },
    {
     "name": "stdout",
     "output_type": "stream",
     "text": [
      "11/11 [==============================] - 13s 888ms/step - loss: 0.6838 - val_loss: 0.1450\n",
      "Epoch 2/50\n",
      "11/11 [==============================] - 0s 11ms/step - loss: 0.3362 - val_loss: 0.1521\n",
      "Epoch 3/50\n",
      " 8/11 [====================>.........] - ETA: 0s - loss: 0.2973"
     ]
    },
    {
     "name": "stderr",
     "output_type": "stream",
     "text": [
      "WARNING:absl:Found untraced functions such as _update_step_xla while saving (showing 1 of 1). These functions will not be directly callable after loading.\n"
     ]
    },
    {
     "name": "stdout",
     "output_type": "stream",
     "text": [
      "INFO:tensorflow:Assets written to: model/assets\n"
     ]
    },
    {
     "name": "stderr",
     "output_type": "stream",
     "text": [
      "INFO:tensorflow:Assets written to: model/assets\n"
     ]
    },
    {
     "name": "stdout",
     "output_type": "stream",
     "text": [
      "11/11 [==============================] - 8s 820ms/step - loss: 0.3002 - val_loss: 0.1363\n",
      "Epoch 4/50\n",
      " 8/11 [====================>.........] - ETA: 0s - loss: 0.2881"
     ]
    },
    {
     "name": "stderr",
     "output_type": "stream",
     "text": [
      "WARNING:absl:Found untraced functions such as _update_step_xla while saving (showing 1 of 1). These functions will not be directly callable after loading.\n"
     ]
    },
    {
     "name": "stdout",
     "output_type": "stream",
     "text": [
      "INFO:tensorflow:Assets written to: model/assets\n"
     ]
    },
    {
     "name": "stderr",
     "output_type": "stream",
     "text": [
      "INFO:tensorflow:Assets written to: model/assets\n"
     ]
    },
    {
     "name": "stdout",
     "output_type": "stream",
     "text": [
      "11/11 [==============================] - 8s 839ms/step - loss: 0.2911 - val_loss: 0.1326\n",
      "Epoch 5/50\n",
      " 8/11 [====================>.........] - ETA: 0s - loss: 0.2783"
     ]
    },
    {
     "name": "stderr",
     "output_type": "stream",
     "text": [
      "WARNING:absl:Found untraced functions such as _update_step_xla while saving (showing 1 of 1). These functions will not be directly callable after loading.\n"
     ]
    },
    {
     "name": "stdout",
     "output_type": "stream",
     "text": [
      "INFO:tensorflow:Assets written to: model/assets\n"
     ]
    },
    {
     "name": "stderr",
     "output_type": "stream",
     "text": [
      "INFO:tensorflow:Assets written to: model/assets\n"
     ]
    },
    {
     "name": "stdout",
     "output_type": "stream",
     "text": [
      "11/11 [==============================] - 8s 823ms/step - loss: 0.2652 - val_loss: 0.1109\n",
      "Epoch 6/50\n",
      " 8/11 [====================>.........] - ETA: 0s - loss: 0.1928"
     ]
    },
    {
     "name": "stderr",
     "output_type": "stream",
     "text": [
      "WARNING:absl:Found untraced functions such as _update_step_xla while saving (showing 1 of 1). These functions will not be directly callable after loading.\n"
     ]
    },
    {
     "name": "stdout",
     "output_type": "stream",
     "text": [
      "INFO:tensorflow:Assets written to: model/assets\n"
     ]
    },
    {
     "name": "stderr",
     "output_type": "stream",
     "text": [
      "INFO:tensorflow:Assets written to: model/assets\n"
     ]
    },
    {
     "name": "stdout",
     "output_type": "stream",
     "text": [
      "11/11 [==============================] - 8s 834ms/step - loss: 0.2048 - val_loss: 0.1038\n",
      "Epoch 7/50\n",
      " 8/11 [====================>.........] - ETA: 0s - loss: 0.1900"
     ]
    },
    {
     "name": "stderr",
     "output_type": "stream",
     "text": [
      "WARNING:absl:Found untraced functions such as _update_step_xla while saving (showing 1 of 1). These functions will not be directly callable after loading.\n"
     ]
    },
    {
     "name": "stdout",
     "output_type": "stream",
     "text": [
      "INFO:tensorflow:Assets written to: model/assets\n"
     ]
    },
    {
     "name": "stderr",
     "output_type": "stream",
     "text": [
      "INFO:tensorflow:Assets written to: model/assets\n"
     ]
    },
    {
     "name": "stdout",
     "output_type": "stream",
     "text": [
      "11/11 [==============================] - 9s 849ms/step - loss: 0.1901 - val_loss: 0.0974\n",
      "Epoch 8/50\n",
      "11/11 [==============================] - 0s 11ms/step - loss: 0.1696 - val_loss: 0.1015\n",
      "Epoch 9/50\n",
      "11/11 [==============================] - 0s 11ms/step - loss: 0.1690 - val_loss: 0.0979\n",
      "Epoch 10/50\n",
      " 7/11 [==================>...........] - ETA: 0s - loss: 0.1280"
     ]
    },
    {
     "name": "stderr",
     "output_type": "stream",
     "text": [
      "WARNING:absl:Found untraced functions such as _update_step_xla while saving (showing 1 of 1). These functions will not be directly callable after loading.\n"
     ]
    },
    {
     "name": "stdout",
     "output_type": "stream",
     "text": [
      "INFO:tensorflow:Assets written to: model/assets\n"
     ]
    },
    {
     "name": "stderr",
     "output_type": "stream",
     "text": [
      "INFO:tensorflow:Assets written to: model/assets\n"
     ]
    },
    {
     "name": "stdout",
     "output_type": "stream",
     "text": [
      "11/11 [==============================] - 8s 818ms/step - loss: 0.1430 - val_loss: 0.0861\n",
      "Epoch 11/50\n",
      " 8/11 [====================>.........] - ETA: 0s - loss: 0.1382"
     ]
    },
    {
     "name": "stderr",
     "output_type": "stream",
     "text": [
      "WARNING:absl:Found untraced functions such as _update_step_xla while saving (showing 1 of 1). These functions will not be directly callable after loading.\n"
     ]
    },
    {
     "name": "stdout",
     "output_type": "stream",
     "text": [
      "INFO:tensorflow:Assets written to: model/assets\n"
     ]
    },
    {
     "name": "stderr",
     "output_type": "stream",
     "text": [
      "INFO:tensorflow:Assets written to: model/assets\n"
     ]
    },
    {
     "name": "stdout",
     "output_type": "stream",
     "text": [
      "11/11 [==============================] - 9s 876ms/step - loss: 0.1430 - val_loss: 0.0789\n",
      "Epoch 12/50\n",
      "11/11 [==============================] - 0s 11ms/step - loss: 0.1520 - val_loss: 0.0848\n",
      "Epoch 13/50\n",
      "11/11 [==============================] - 0s 10ms/step - loss: 0.1485 - val_loss: 0.0900\n",
      "Epoch 14/50\n",
      " 8/11 [====================>.........] - ETA: 0s - loss: 0.1292"
     ]
    },
    {
     "name": "stderr",
     "output_type": "stream",
     "text": [
      "WARNING:absl:Found untraced functions such as _update_step_xla while saving (showing 1 of 1). These functions will not be directly callable after loading.\n"
     ]
    },
    {
     "name": "stdout",
     "output_type": "stream",
     "text": [
      "INFO:tensorflow:Assets written to: model/assets\n"
     ]
    },
    {
     "name": "stderr",
     "output_type": "stream",
     "text": [
      "INFO:tensorflow:Assets written to: model/assets\n"
     ]
    },
    {
     "name": "stdout",
     "output_type": "stream",
     "text": [
      "11/11 [==============================] - 8s 825ms/step - loss: 0.1370 - val_loss: 0.0762\n",
      "Epoch 15/50\n",
      " 8/11 [====================>.........] - ETA: 0s - loss: 0.1479"
     ]
    },
    {
     "name": "stderr",
     "output_type": "stream",
     "text": [
      "WARNING:absl:Found untraced functions such as _update_step_xla while saving (showing 1 of 1). These functions will not be directly callable after loading.\n"
     ]
    },
    {
     "name": "stdout",
     "output_type": "stream",
     "text": [
      "INFO:tensorflow:Assets written to: model/assets\n"
     ]
    },
    {
     "name": "stderr",
     "output_type": "stream",
     "text": [
      "INFO:tensorflow:Assets written to: model/assets\n"
     ]
    },
    {
     "name": "stdout",
     "output_type": "stream",
     "text": [
      "11/11 [==============================] - 9s 856ms/step - loss: 0.1428 - val_loss: 0.0746\n",
      "Epoch 16/50\n",
      "11/11 [==============================] - 0s 11ms/step - loss: 0.1303 - val_loss: 0.0795\n",
      "Epoch 17/50\n",
      "11/11 [==============================] - 0s 10ms/step - loss: 0.1401 - val_loss: 0.0762\n",
      "Epoch 18/50\n",
      " 8/11 [====================>.........] - ETA: 0s - loss: 0.1205"
     ]
    },
    {
     "name": "stderr",
     "output_type": "stream",
     "text": [
      "WARNING:absl:Found untraced functions such as _update_step_xla while saving (showing 1 of 1). These functions will not be directly callable after loading.\n"
     ]
    },
    {
     "name": "stdout",
     "output_type": "stream",
     "text": [
      "INFO:tensorflow:Assets written to: model/assets\n"
     ]
    },
    {
     "name": "stderr",
     "output_type": "stream",
     "text": [
      "INFO:tensorflow:Assets written to: model/assets\n"
     ]
    },
    {
     "name": "stdout",
     "output_type": "stream",
     "text": [
      "11/11 [==============================] - 8s 830ms/step - loss: 0.1195 - val_loss: 0.0724\n",
      "Epoch 19/50\n",
      "11/11 [==============================] - 0s 10ms/step - loss: 0.1194 - val_loss: 0.0749\n",
      "Epoch 20/50\n",
      "11/11 [==============================] - 0s 10ms/step - loss: 0.1223 - val_loss: 0.0800\n",
      "Epoch 21/50\n",
      " 8/11 [====================>.........] - ETA: 0s - loss: 0.1085"
     ]
    },
    {
     "name": "stderr",
     "output_type": "stream",
     "text": [
      "WARNING:absl:Found untraced functions such as _update_step_xla while saving (showing 1 of 1). These functions will not be directly callable after loading.\n"
     ]
    },
    {
     "name": "stdout",
     "output_type": "stream",
     "text": [
      "INFO:tensorflow:Assets written to: model/assets\n"
     ]
    },
    {
     "name": "stderr",
     "output_type": "stream",
     "text": [
      "INFO:tensorflow:Assets written to: model/assets\n"
     ]
    },
    {
     "name": "stdout",
     "output_type": "stream",
     "text": [
      "11/11 [==============================] - 8s 824ms/step - loss: 0.1032 - val_loss: 0.0692\n",
      "Epoch 22/50\n",
      " 8/11 [====================>.........] - ETA: 0s - loss: 0.1162"
     ]
    },
    {
     "name": "stderr",
     "output_type": "stream",
     "text": [
      "WARNING:absl:Found untraced functions such as _update_step_xla while saving (showing 1 of 1). These functions will not be directly callable after loading.\n"
     ]
    },
    {
     "name": "stdout",
     "output_type": "stream",
     "text": [
      "INFO:tensorflow:Assets written to: model/assets\n"
     ]
    },
    {
     "name": "stderr",
     "output_type": "stream",
     "text": [
      "INFO:tensorflow:Assets written to: model/assets\n"
     ]
    },
    {
     "name": "stdout",
     "output_type": "stream",
     "text": [
      "11/11 [==============================] - 9s 851ms/step - loss: 0.1127 - val_loss: 0.0643\n",
      "Epoch 23/50\n",
      " 8/11 [====================>.........] - ETA: 0s - loss: 0.1092"
     ]
    },
    {
     "name": "stderr",
     "output_type": "stream",
     "text": [
      "WARNING:absl:Found untraced functions such as _update_step_xla while saving (showing 1 of 1). These functions will not be directly callable after loading.\n"
     ]
    },
    {
     "name": "stdout",
     "output_type": "stream",
     "text": [
      "INFO:tensorflow:Assets written to: model/assets\n"
     ]
    },
    {
     "name": "stderr",
     "output_type": "stream",
     "text": [
      "INFO:tensorflow:Assets written to: model/assets\n"
     ]
    },
    {
     "name": "stdout",
     "output_type": "stream",
     "text": [
      "11/11 [==============================] - 8s 820ms/step - loss: 0.1114 - val_loss: 0.0643\n",
      "Epoch 24/50\n",
      "11/11 [==============================] - 0s 11ms/step - loss: 0.1124 - val_loss: 0.0673\n",
      "Epoch 25/50\n",
      "11/11 [==============================] - 0s 10ms/step - loss: 0.1073 - val_loss: 0.0712\n",
      "Epoch 26/50\n",
      "11/11 [==============================] - 0s 10ms/step - loss: 0.1149 - val_loss: 0.0648\n",
      "Epoch 27/50\n",
      " 8/11 [====================>.........] - ETA: 0s - loss: 0.1266"
     ]
    },
    {
     "name": "stderr",
     "output_type": "stream",
     "text": [
      "WARNING:absl:Found untraced functions such as _update_step_xla while saving (showing 1 of 1). These functions will not be directly callable after loading.\n"
     ]
    },
    {
     "name": "stdout",
     "output_type": "stream",
     "text": [
      "INFO:tensorflow:Assets written to: model/assets\n"
     ]
    },
    {
     "name": "stderr",
     "output_type": "stream",
     "text": [
      "INFO:tensorflow:Assets written to: model/assets\n"
     ]
    },
    {
     "name": "stdout",
     "output_type": "stream",
     "text": [
      "11/11 [==============================] - 9s 853ms/step - loss: 0.1215 - val_loss: 0.0627\n",
      "Epoch 28/50\n",
      "11/11 [==============================] - 0s 10ms/step - loss: 0.1184 - val_loss: 0.0709\n",
      "Epoch 29/50\n",
      " 8/11 [====================>.........] - ETA: 0s - loss: 0.1099"
     ]
    },
    {
     "name": "stderr",
     "output_type": "stream",
     "text": [
      "WARNING:absl:Found untraced functions such as _update_step_xla while saving (showing 1 of 1). These functions will not be directly callable after loading.\n"
     ]
    },
    {
     "name": "stdout",
     "output_type": "stream",
     "text": [
      "INFO:tensorflow:Assets written to: model/assets\n"
     ]
    },
    {
     "name": "stderr",
     "output_type": "stream",
     "text": [
      "INFO:tensorflow:Assets written to: model/assets\n"
     ]
    },
    {
     "name": "stdout",
     "output_type": "stream",
     "text": [
      "11/11 [==============================] - 8s 847ms/step - loss: 0.0991 - val_loss: 0.0619\n",
      "Epoch 30/50\n",
      " 8/11 [====================>.........] - ETA: 0s - loss: 0.0843"
     ]
    },
    {
     "name": "stderr",
     "output_type": "stream",
     "text": [
      "WARNING:absl:Found untraced functions such as _update_step_xla while saving (showing 1 of 1). These functions will not be directly callable after loading.\n"
     ]
    },
    {
     "name": "stdout",
     "output_type": "stream",
     "text": [
      "INFO:tensorflow:Assets written to: model/assets\n"
     ]
    },
    {
     "name": "stderr",
     "output_type": "stream",
     "text": [
      "INFO:tensorflow:Assets written to: model/assets\n"
     ]
    },
    {
     "name": "stdout",
     "output_type": "stream",
     "text": [
      "11/11 [==============================] - 9s 865ms/step - loss: 0.0924 - val_loss: 0.0586\n",
      "Epoch 31/50\n",
      "11/11 [==============================] - 0s 11ms/step - loss: 0.0950 - val_loss: 0.0671\n",
      "Epoch 32/50\n",
      "11/11 [==============================] - 0s 10ms/step - loss: 0.0944 - val_loss: 0.0586\n",
      "Epoch 33/50\n",
      "11/11 [==============================] - 0s 10ms/step - loss: 0.0937 - val_loss: 0.0590\n",
      "Epoch 34/50\n",
      "11/11 [==============================] - 0s 10ms/step - loss: 0.1069 - val_loss: 0.0597\n",
      "Epoch 35/50\n",
      "11/11 [==============================] - 0s 10ms/step - loss: 0.0908 - val_loss: 0.0611\n",
      "Epoch 36/50\n",
      "11/11 [==============================] - 0s 11ms/step - loss: 0.0993 - val_loss: 0.0653\n",
      "Epoch 37/50\n",
      "11/11 [==============================] - 0s 12ms/step - loss: 0.0993 - val_loss: 0.0643\n",
      "Epoch 38/50\n",
      " 8/11 [====================>.........] - ETA: 0s - loss: 0.1010"
     ]
    },
    {
     "name": "stderr",
     "output_type": "stream",
     "text": [
      "WARNING:absl:Found untraced functions such as _update_step_xla while saving (showing 1 of 1). These functions will not be directly callable after loading.\n"
     ]
    },
    {
     "name": "stdout",
     "output_type": "stream",
     "text": [
      "INFO:tensorflow:Assets written to: model/assets\n"
     ]
    },
    {
     "name": "stderr",
     "output_type": "stream",
     "text": [
      "INFO:tensorflow:Assets written to: model/assets\n"
     ]
    },
    {
     "name": "stdout",
     "output_type": "stream",
     "text": [
      "11/11 [==============================] - 8s 848ms/step - loss: 0.1074 - val_loss: 0.0527\n",
      "Epoch 39/50\n",
      "11/11 [==============================] - 0s 11ms/step - loss: 0.1010 - val_loss: 0.0606\n",
      "Epoch 40/50\n",
      "11/11 [==============================] - 0s 12ms/step - loss: 0.0943 - val_loss: 0.0579\n",
      "Epoch 41/50\n",
      " 7/11 [==================>...........] - ETA: 0s - loss: 0.0955"
     ]
    },
    {
     "name": "stderr",
     "output_type": "stream",
     "text": [
      "WARNING:absl:Found untraced functions such as _update_step_xla while saving (showing 1 of 1). These functions will not be directly callable after loading.\n"
     ]
    },
    {
     "name": "stdout",
     "output_type": "stream",
     "text": [
      "INFO:tensorflow:Assets written to: model/assets\n"
     ]
    },
    {
     "name": "stderr",
     "output_type": "stream",
     "text": [
      "INFO:tensorflow:Assets written to: model/assets\n"
     ]
    },
    {
     "name": "stdout",
     "output_type": "stream",
     "text": [
      "11/11 [==============================] - 8s 832ms/step - loss: 0.0900 - val_loss: 0.0495\n",
      "Epoch 42/50\n",
      "11/11 [==============================] - 0s 11ms/step - loss: 0.0936 - val_loss: 0.0505\n",
      "Epoch 43/50\n",
      "11/11 [==============================] - 0s 10ms/step - loss: 0.0868 - val_loss: 0.0518\n",
      "Epoch 44/50\n",
      "11/11 [==============================] - 0s 10ms/step - loss: 0.0908 - val_loss: 0.0535\n",
      "Epoch 45/50\n",
      "11/11 [==============================] - 0s 10ms/step - loss: 0.0921 - val_loss: 0.0501\n",
      "Epoch 46/50\n",
      "11/11 [==============================] - 0s 10ms/step - loss: 0.0885 - val_loss: 0.0544\n",
      "Epoch 47/50\n",
      "11/11 [==============================] - 0s 11ms/step - loss: 0.0828 - val_loss: 0.0503\n",
      "Epoch 48/50\n",
      "11/11 [==============================] - 0s 10ms/step - loss: 0.0963 - val_loss: 0.0508\n",
      "Epoch 49/50\n",
      "11/11 [==============================] - 0s 10ms/step - loss: 0.0928 - val_loss: 0.0522\n",
      "Epoch 50/50\n",
      " 8/11 [====================>.........] - ETA: 0s - loss: 0.0934"
     ]
    },
    {
     "name": "stderr",
     "output_type": "stream",
     "text": [
      "WARNING:absl:Found untraced functions such as _update_step_xla while saving (showing 1 of 1). These functions will not be directly callable after loading.\n"
     ]
    },
    {
     "name": "stdout",
     "output_type": "stream",
     "text": [
      "INFO:tensorflow:Assets written to: model/assets\n"
     ]
    },
    {
     "name": "stderr",
     "output_type": "stream",
     "text": [
      "INFO:tensorflow:Assets written to: model/assets\n"
     ]
    },
    {
     "name": "stdout",
     "output_type": "stream",
     "text": [
      "\b\b\b\b\b\b\b\b\b\b\b\b\b\b\b\b\b\b\b\b\b\b\b\b\b\b\b\b\b\b\b\b\b\b\b\b\b\b\b\b\b\b\b\b\b\b\b\b\b\b\b\b\b\b\b\b\b\b\b\b\b\b\b\r",
      "11/11 [==============================] - 8s 835ms/step - loss: 0.0844 - val_loss: 0.0495\n"
     ]
    }
   ],
   "source": [
    "history = model.fit(trainX, trainY, epochs=50, batch_size=16, validation_split=0.1, verbose=1, callbacks=[cp])"
   ]
  },
  {
   "cell_type": "code",
   "execution_count": 27,
   "metadata": {},
   "outputs": [
    {
     "data": {
      "image/png": "[encoded data removed]",
      "text/plain": [
       "<Figure size 432x288 with 1 Axes>"
      ]
     },
     "metadata": {
      "needs_background": "light"
     },
     "output_type": "display_data"
    }
   ],
   "source": [
    "plt.plot(history.history['loss'], label='Training')\n",
    "plt.plot(history.history['val_loss'], label='Validation')\n",
    "plt.show()"
   ]
  },
  {
   "cell_type": "markdown",
   "metadata": {},
   "source": [
    "#### MODEL FORECAST / PREDICTION"
   ]
  },
  {
   "cell_type": "code",
   "execution_count": 28,
   "metadata": {},
   "outputs": [
    {
     "name": "stdout",
     "output_type": "stream",
     "text": [
      "2/2 [==============================] - 0s 4ms/step\n"
     ]
    }
   ],
   "source": [
    "forecast = model.predict(testX)"
   ]
  },
  {
   "cell_type": "code",
   "execution_count": 29,
   "metadata": {},
   "outputs": [
    {
     "data": {
      "text/plain": [
       "array([12179.32  , 12198.478 , 12117.013 , 12122.895 , 12113.18  ,\n",
       "       12112.404 , 12068.697 , 12141.184 , 12154.209 , 12169.616 ,\n",
       "       12189.825 , 12163.794 , 12114.392 , 12109.384 , 12095.684 ,\n",
       "       11950.131 , 11934.7295, 12061.122 , 12145.633 , 12194.156 ,\n",
       "       12138.272 , 12111.71  , 12035.139 , 12176.324 , 12224.812 ,\n",
       "       12216.79  , 12294.45  , 12336.4   , 12340.806 , 12363.382 ,\n",
       "       12364.548 , 12448.628 , 12594.511 , 12669.1875, 12726.606 ,\n",
       "       12663.266 , 12550.583 , 12648.284 , 12809.884 , 12941.013 ,\n",
       "       12898.995 , 12962.258 , 13065.503 , 13074.061 , 13057.385 ,\n",
       "       12955.7295, 12943.789 , 12974.531 , 13056.657 , 13134.146 ],\n",
       "      dtype=float32)"
      ]
     },
     "execution_count": 29,
     "metadata": {},
     "output_type": "execute_result"
    }
   ],
   "source": [
    "forecast_copies = np.repeat(forecast, data.shape[1], axis=-1)\n",
    "\n",
    "y_pred_future = scaler.inverse_transform(forecast_copies)[:,0]\n",
    "\n",
    "y_pred_future"
   ]
  },
  {
   "cell_type": "code",
   "execution_count": 30,
   "metadata": {},
   "outputs": [],
   "source": [
    "forecast_period_dates = list(train_dates)[-test_length:]\n",
    "forecast_dates = []\n",
    "for time_i in forecast_period_dates:\n",
    "    forecast_dates.append(time_i.date())\n",
    "\n",
    "data_forecast = pd.DataFrame({'Date':np.array(forecast_dates), 'Predicted Close':y_pred_future, 'Actual Close':data['Close'].tail(test_length)})"
   ]
  },
  {
   "cell_type": "code",
   "execution_count": 31,
   "metadata": {},
   "outputs": [
    {
     "data": {
      "text/html": [
       "<div>\n",
       "<style scoped>\n",
       "    .dataframe tbody tr th:only-of-type {\n",
       "        vertical-align: middle;\n",
       "    }\n",
       "\n",
       "    .dataframe tbody tr th {\n",
       "        vertical-align: top;\n",
       "    }\n",
       "\n",
       "    .dataframe thead th {\n",
       "        text-align: right;\n",
       "    }\n",
       "</style>\n",
       "<table border=\"1\" class=\"dataframe\">\n",
       "  <thead>\n",
       "    <tr style=\"text-align: right;\">\n",
       "      <th></th>\n",
       "      <th>Date</th>\n",
       "      <th>Predicted Close</th>\n",
       "      <th>Actual Close</th>\n",
       "    </tr>\n",
       "    <tr>\n",
       "      <th>Date</th>\n",
       "      <th></th>\n",
       "      <th></th>\n",
       "      <th></th>\n",
       "    </tr>\n",
       "  </thead>\n",
       "  <tbody>\n",
       "    <tr>\n",
       "      <th>2023-04-04</th>\n",
       "      <td>2023-04-04</td>\n",
       "      <td>12179.320312</td>\n",
       "      <td>12126.330078</td>\n",
       "    </tr>\n",
       "    <tr>\n",
       "      <th>2023-04-05</th>\n",
       "      <td>2023-04-05</td>\n",
       "      <td>12198.477539</td>\n",
       "      <td>11996.860352</td>\n",
       "    </tr>\n",
       "    <tr>\n",
       "      <th>2023-04-06</th>\n",
       "      <td>2023-04-06</td>\n",
       "      <td>12117.012695</td>\n",
       "      <td>12087.959961</td>\n",
       "    </tr>\n",
       "    <tr>\n",
       "      <th>2023-04-10</th>\n",
       "      <td>2023-04-10</td>\n",
       "      <td>12122.894531</td>\n",
       "      <td>12084.360352</td>\n",
       "    </tr>\n",
       "    <tr>\n",
       "      <th>2023-04-11</th>\n",
       "      <td>2023-04-11</td>\n",
       "      <td>12113.179688</td>\n",
       "      <td>12031.879883</td>\n",
       "    </tr>\n",
       "    <tr>\n",
       "      <th>2023-04-12</th>\n",
       "      <td>2023-04-12</td>\n",
       "      <td>12112.404297</td>\n",
       "      <td>11929.339844</td>\n",
       "    </tr>\n",
       "    <tr>\n",
       "      <th>2023-04-13</th>\n",
       "      <td>2023-04-13</td>\n",
       "      <td>12068.697266</td>\n",
       "      <td>12166.269531</td>\n",
       "    </tr>\n",
       "    <tr>\n",
       "      <th>2023-04-14</th>\n",
       "      <td>2023-04-14</td>\n",
       "      <td>12141.183594</td>\n",
       "      <td>12123.469727</td>\n",
       "    </tr>\n",
       "    <tr>\n",
       "      <th>2023-04-17</th>\n",
       "      <td>2023-04-17</td>\n",
       "      <td>12154.208984</td>\n",
       "      <td>12157.719727</td>\n",
       "    </tr>\n",
       "    <tr>\n",
       "      <th>2023-04-18</th>\n",
       "      <td>2023-04-18</td>\n",
       "      <td>12169.616211</td>\n",
       "      <td>12153.410156</td>\n",
       "    </tr>\n",
       "    <tr>\n",
       "      <th>2023-04-19</th>\n",
       "      <td>2023-04-19</td>\n",
       "      <td>12189.825195</td>\n",
       "      <td>12157.230469</td>\n",
       "    </tr>\n",
       "    <tr>\n",
       "      <th>2023-04-20</th>\n",
       "      <td>2023-04-20</td>\n",
       "      <td>12163.793945</td>\n",
       "      <td>12059.559570</td>\n",
       "    </tr>\n",
       "    <tr>\n",
       "      <th>2023-04-21</th>\n",
       "      <td>2023-04-21</td>\n",
       "      <td>12114.391602</td>\n",
       "      <td>12072.459961</td>\n",
       "    </tr>\n",
       "    <tr>\n",
       "      <th>2023-04-24</th>\n",
       "      <td>2023-04-24</td>\n",
       "      <td>12109.383789</td>\n",
       "      <td>12037.200195</td>\n",
       "    </tr>\n",
       "    <tr>\n",
       "      <th>2023-04-25</th>\n",
       "      <td>2023-04-25</td>\n",
       "      <td>12095.683594</td>\n",
       "      <td>11799.160156</td>\n",
       "    </tr>\n",
       "    <tr>\n",
       "      <th>2023-04-26</th>\n",
       "      <td>2023-04-26</td>\n",
       "      <td>11950.130859</td>\n",
       "      <td>11854.349609</td>\n",
       "    </tr>\n",
       "    <tr>\n",
       "      <th>2023-04-27</th>\n",
       "      <td>2023-04-27</td>\n",
       "      <td>11934.729492</td>\n",
       "      <td>12142.240234</td>\n",
       "    </tr>\n",
       "    <tr>\n",
       "      <th>2023-04-28</th>\n",
       "      <td>2023-04-28</td>\n",
       "      <td>12061.122070</td>\n",
       "      <td>12226.580078</td>\n",
       "    </tr>\n",
       "    <tr>\n",
       "      <th>2023-05-01</th>\n",
       "      <td>2023-05-01</td>\n",
       "      <td>12145.632812</td>\n",
       "      <td>12212.599609</td>\n",
       "    </tr>\n",
       "    <tr>\n",
       "      <th>2023-05-02</th>\n",
       "      <td>2023-05-02</td>\n",
       "      <td>12194.156250</td>\n",
       "      <td>12080.509766</td>\n",
       "    </tr>\n",
       "    <tr>\n",
       "      <th>2023-05-03</th>\n",
       "      <td>2023-05-03</td>\n",
       "      <td>12138.272461</td>\n",
       "      <td>12025.330078</td>\n",
       "    </tr>\n",
       "    <tr>\n",
       "      <th>2023-05-04</th>\n",
       "      <td>2023-05-04</td>\n",
       "      <td>12111.709961</td>\n",
       "      <td>11966.400391</td>\n",
       "    </tr>\n",
       "    <tr>\n",
       "      <th>2023-05-05</th>\n",
       "      <td>2023-05-05</td>\n",
       "      <td>12035.138672</td>\n",
       "      <td>12235.410156</td>\n",
       "    </tr>\n",
       "    <tr>\n",
       "      <th>2023-05-08</th>\n",
       "      <td>2023-05-08</td>\n",
       "      <td>12176.324219</td>\n",
       "      <td>12256.919922</td>\n",
       "    </tr>\n",
       "    <tr>\n",
       "      <th>2023-05-09</th>\n",
       "      <td>2023-05-09</td>\n",
       "      <td>12224.811523</td>\n",
       "      <td>12179.549805</td>\n",
       "    </tr>\n",
       "    <tr>\n",
       "      <th>2023-05-10</th>\n",
       "      <td>2023-05-10</td>\n",
       "      <td>12216.790039</td>\n",
       "      <td>12306.440430</td>\n",
       "    </tr>\n",
       "    <tr>\n",
       "      <th>2023-05-11</th>\n",
       "      <td>2023-05-11</td>\n",
       "      <td>12294.450195</td>\n",
       "      <td>12328.509766</td>\n",
       "    </tr>\n",
       "    <tr>\n",
       "      <th>2023-05-12</th>\n",
       "      <td>2023-05-12</td>\n",
       "      <td>12336.400391</td>\n",
       "      <td>12284.740234</td>\n",
       "    </tr>\n",
       "    <tr>\n",
       "      <th>2023-05-15</th>\n",
       "      <td>2023-05-15</td>\n",
       "      <td>12340.805664</td>\n",
       "      <td>12365.209961</td>\n",
       "    </tr>\n",
       "    <tr>\n",
       "      <th>2023-05-16</th>\n",
       "      <td>2023-05-16</td>\n",
       "      <td>12363.381836</td>\n",
       "      <td>12343.049805</td>\n",
       "    </tr>\n",
       "    <tr>\n",
       "      <th>2023-05-17</th>\n",
       "      <td>2023-05-17</td>\n",
       "      <td>12364.547852</td>\n",
       "      <td>12500.570313</td>\n",
       "    </tr>\n",
       "    <tr>\n",
       "      <th>2023-05-18</th>\n",
       "      <td>2023-05-18</td>\n",
       "      <td>12448.627930</td>\n",
       "      <td>12688.839844</td>\n",
       "    </tr>\n",
       "    <tr>\n",
       "      <th>2023-05-19</th>\n",
       "      <td>2023-05-19</td>\n",
       "      <td>12594.510742</td>\n",
       "      <td>12657.900391</td>\n",
       "    </tr>\n",
       "    <tr>\n",
       "      <th>2023-05-22</th>\n",
       "      <td>2023-05-22</td>\n",
       "      <td>12669.187500</td>\n",
       "      <td>12720.780273</td>\n",
       "    </tr>\n",
       "    <tr>\n",
       "      <th>2023-05-23</th>\n",
       "      <td>2023-05-23</td>\n",
       "      <td>12726.606445</td>\n",
       "      <td>12560.250000</td>\n",
       "    </tr>\n",
       "    <tr>\n",
       "      <th>2023-05-24</th>\n",
       "      <td>2023-05-24</td>\n",
       "      <td>12663.265625</td>\n",
       "      <td>12484.160156</td>\n",
       "    </tr>\n",
       "    <tr>\n",
       "      <th>2023-05-25</th>\n",
       "      <td>2023-05-25</td>\n",
       "      <td>12550.583008</td>\n",
       "      <td>12698.089844</td>\n",
       "    </tr>\n",
       "    <tr>\n",
       "      <th>2023-05-26</th>\n",
       "      <td>2023-05-26</td>\n",
       "      <td>12648.284180</td>\n",
       "      <td>12975.690430</td>\n",
       "    </tr>\n",
       "    <tr>\n",
       "      <th>2023-05-30</th>\n",
       "      <td>2023-05-30</td>\n",
       "      <td>12809.883789</td>\n",
       "      <td>13017.429688</td>\n",
       "    </tr>\n",
       "    <tr>\n",
       "      <th>2023-05-31</th>\n",
       "      <td>2023-05-31</td>\n",
       "      <td>12941.012695</td>\n",
       "      <td>12935.290039</td>\n",
       "    </tr>\n",
       "    <tr>\n",
       "      <th>2023-06-01</th>\n",
       "      <td>2023-06-01</td>\n",
       "      <td>12898.995117</td>\n",
       "      <td>13100.980469</td>\n",
       "    </tr>\n",
       "    <tr>\n",
       "      <th>2023-06-02</th>\n",
       "      <td>2023-06-02</td>\n",
       "      <td>12962.257812</td>\n",
       "      <td>13240.769531</td>\n",
       "    </tr>\n",
       "    <tr>\n",
       "      <th>2023-06-05</th>\n",
       "      <td>2023-06-05</td>\n",
       "      <td>13065.502930</td>\n",
       "      <td>13229.429688</td>\n",
       "    </tr>\n",
       "    <tr>\n",
       "      <th>2023-06-06</th>\n",
       "      <td>2023-06-06</td>\n",
       "      <td>13074.060547</td>\n",
       "      <td>13276.419922</td>\n",
       "    </tr>\n",
       "    <tr>\n",
       "      <th>2023-06-07</th>\n",
       "      <td>2023-06-07</td>\n",
       "      <td>13057.384766</td>\n",
       "      <td>13104.900391</td>\n",
       "    </tr>\n",
       "    <tr>\n",
       "      <th>2023-06-08</th>\n",
       "      <td>2023-06-08</td>\n",
       "      <td>12955.729492</td>\n",
       "      <td>13238.519531</td>\n",
       "    </tr>\n",
       "    <tr>\n",
       "      <th>2023-06-09</th>\n",
       "      <td>2023-06-09</td>\n",
       "      <td>12943.789062</td>\n",
       "      <td>13259.139648</td>\n",
       "    </tr>\n",
       "    <tr>\n",
       "      <th>2023-06-12</th>\n",
       "      <td>2023-06-12</td>\n",
       "      <td>12974.531250</td>\n",
       "      <td>13461.919922</td>\n",
       "    </tr>\n",
       "    <tr>\n",
       "      <th>2023-06-13</th>\n",
       "      <td>2023-06-13</td>\n",
       "      <td>13056.657227</td>\n",
       "      <td>13573.320313</td>\n",
       "    </tr>\n",
       "    <tr>\n",
       "      <th>2023-06-14</th>\n",
       "      <td>2023-06-14</td>\n",
       "      <td>13134.146484</td>\n",
       "      <td>13508.669922</td>\n",
       "    </tr>\n",
       "  </tbody>\n",
       "</table>\n",
       "</div>"
      ],
      "text/plain": [
       "                  Date  Predicted Close  Actual Close\n",
       "Date                                                 \n",
       "2023-04-04  2023-04-04     12179.320312  12126.330078\n",
       "2023-04-05  2023-04-05     12198.477539  11996.860352\n",
       "2023-04-06  2023-04-06     12117.012695  12087.959961\n",
       "2023-04-10  2023-04-10     12122.894531  12084.360352\n",
       "2023-04-11  2023-04-11     12113.179688  12031.879883\n",
       "2023-04-12  2023-04-12     12112.404297  11929.339844\n",
       "2023-04-13  2023-04-13     12068.697266  12166.269531\n",
       "2023-04-14  2023-04-14     12141.183594  12123.469727\n",
       "2023-04-17  2023-04-17     12154.208984  12157.719727\n",
       "2023-04-18  2023-04-18     12169.616211  12153.410156\n",
       "2023-04-19  2023-04-19     12189.825195  12157.230469\n",
       "2023-04-20  2023-04-20     12163.793945  12059.559570\n",
       "2023-04-21  2023-04-21     12114.391602  12072.459961\n",
       "2023-04-24  2023-04-24     12109.383789  12037.200195\n",
       "2023-04-25  2023-04-25     12095.683594  11799.160156\n",
       "2023-04-26  2023-04-26     11950.130859  11854.349609\n",
       "2023-04-27  2023-04-27     11934.729492  12142.240234\n",
       "2023-04-28  2023-04-28     12061.122070  12226.580078\n",
       "2023-05-01  2023-05-01     12145.632812  12212.599609\n",
       "2023-05-02  2023-05-02     12194.156250  12080.509766\n",
       "2023-05-03  2023-05-03     12138.272461  12025.330078\n",
       "2023-05-04  2023-05-04     12111.709961  11966.400391\n",
       "2023-05-05  2023-05-05     12035.138672  12235.410156\n",
       "2023-05-08  2023-05-08     12176.324219  12256.919922\n",
       "2023-05-09  2023-05-09     12224.811523  12179.549805\n",
       "2023-05-10  2023-05-10     12216.790039  12306.440430\n",
       "2023-05-11  2023-05-11     12294.450195  12328.509766\n",
       "2023-05-12  2023-05-12     12336.400391  12284.740234\n",
       "2023-05-15  2023-05-15     12340.805664  12365.209961\n",
       "2023-05-16  2023-05-16     12363.381836  12343.049805\n",
       "2023-05-17  2023-05-17     12364.547852  12500.570313\n",
       "2023-05-18  2023-05-18     12448.627930  12688.839844\n",
       "2023-05-19  2023-05-19     12594.510742  12657.900391\n",
       "2023-05-22  2023-05-22     12669.187500  12720.780273\n",
       "2023-05-23  2023-05-23     12726.606445  12560.250000\n",
       "2023-05-24  2023-05-24     12663.265625  12484.160156\n",
       "2023-05-25  2023-05-25     12550.583008  12698.089844\n",
       "2023-05-26  2023-05-26     12648.284180  12975.690430\n",
       "2023-05-30  2023-05-30     12809.883789  13017.429688\n",
       "2023-05-31  2023-05-31     12941.012695  12935.290039\n",
       "2023-06-01  2023-06-01     12898.995117  13100.980469\n",
       "2023-06-02  2023-06-02     12962.257812  13240.769531\n",
       "2023-06-05  2023-06-05     13065.502930  13229.429688\n",
       "2023-06-06  2023-06-06     13074.060547  13276.419922\n",
       "2023-06-07  2023-06-07     13057.384766  13104.900391\n",
       "2023-06-08  2023-06-08     12955.729492  13238.519531\n",
       "2023-06-09  2023-06-09     12943.789062  13259.139648\n",
       "2023-06-12  2023-06-12     12974.531250  13461.919922\n",
       "2023-06-13  2023-06-13     13056.657227  13573.320313\n",
       "2023-06-14  2023-06-14     13134.146484  13508.669922"
      ]
     },
     "execution_count": 31,
     "metadata": {},
     "output_type": "execute_result"
    }
   ],
   "source": [
    "data_forecast.index = data_forecast['Date']\n",
    "data_forecast"
   ]
  },
  {
   "cell_type": "code",
   "execution_count": 32,
   "metadata": {},
   "outputs": [
    {
     "data": {
      "text/plain": [
       "<AxesSubplot:xlabel='Date'>"
      ]
     },
     "execution_count": 32,
     "metadata": {},
     "output_type": "execute_result"
    },
    {
     "data": {
      "image/png": "[encoded data removed]",
      "text/plain": [
       "<Figure size 432x288 with 1 Axes>"
      ]
     },
     "metadata": {
      "needs_background": "light"
     },
     "output_type": "display_data"
    }
   ],
   "source": [
    "data_forecast.plot()"
   ]
  },
  {
   "cell_type": "markdown",
   "metadata": {},
   "source": [
    "## OBSERVATION: \n",
    "###  - Even though the model is not near identical to the actual price,  from the plot above it is evident that it is quite effective in detecting the trend (rise / fall) of the stock value. \n",
    "###  - Converting the model to a classification task of \"Will the price increase the next day?\" should result in improved effectiveness. \n",
    "### - Additionally, training for more epochs in addition to training on more data (5/10 years data) could prove effctive."
   ]
  },
  {
   "cell_type": "code",
   "execution_count": null,
   "metadata": {},
   "outputs": [],
   "source": []
  },
  {
   "cell_type": "code",
   "execution_count": null,
   "metadata": {},
   "outputs": [],
   "source": []
  }
 ],
 "metadata": {
  "kernelspec": {
   "display_name": "Python 3",
   "language": "python",
   "name": "python3"
  },
  "language_info": {
   "codemirror_mode": {
    "name": "ipython",
    "version": 3
   },
   "file_extension": ".py",
   "mimetype": "text/x-python",
   "name": "python",
   "nbconvert_exporter": "python",
   "pygments_lexer": "ipython3",
   "version": "3.8.5"
  }
 },
 "nbformat": 4,
 "nbformat_minor": 4
}
