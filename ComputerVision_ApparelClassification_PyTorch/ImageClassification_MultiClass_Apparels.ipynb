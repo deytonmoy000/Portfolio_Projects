{
 "cells": [
  {
   "cell_type": "markdown",
   "metadata": {
    "id": "FDQtIiGZ1ajG"
   },
   "source": [
    "## **Deep Learning Image Classification Model**"
   ]
  },
  {
   "cell_type": "markdown",
   "metadata": {
    "id": "w7kn3Kep1iBk"
   },
   "source": [
    "### **1 - Import Libraries**"
   ]
  },
  {
   "cell_type": "markdown",
   "metadata": {
    "id": "YkldaHTk1qgL"
   },
   "source": [
    "Torch API"
   ]
  },
  {
   "cell_type": "code",
   "execution_count": 1,
   "metadata": {
    "id": "MPURRiam1mkr"
   },
   "outputs": [],
   "source": [
    "import torch\n",
    "import torch.nn as nn\n",
    "import torch.nn.functional as F\n",
    "from torch.utils.data import Dataset, DataLoader, random_split\n",
    "import torchvision.transforms as T\n",
    "from torchsummary import summary\n",
    "from tqdm.notebook import tqdm"
   ]
  },
  {
   "cell_type": "markdown",
   "metadata": {
    "id": "X6RqyQHX2gsu"
   },
   "source": [
    "Data API"
   ]
  },
  {
   "cell_type": "code",
   "execution_count": 2,
   "metadata": {
    "id": "Fe26cmXx2jNW"
   },
   "outputs": [],
   "source": [
    "import numpy as np\n",
    "from PIL import Image\n",
    "import os\n",
    "import matplotlib.pyplot as plt\n",
    "import re\n",
    "import requests"
   ]
  },
  {
   "cell_type": "markdown",
   "metadata": {
    "id": "7hjSQkoa2_AJ"
   },
   "source": [
    "Install opendatasets package"
   ]
  },
  {
   "cell_type": "code",
   "execution_count": 3,
   "metadata": {
    "colab": {
     "base_uri": "https://localhost:8080/"
    },
    "id": "PzF5FpHE3Guo",
    "outputId": "059f7065-e4ca-4f4c-d050-b0139317aaca"
   },
   "outputs": [
    {
     "name": "stdout",
     "output_type": "stream",
     "text": [
      "Requirement already satisfied: opendatasets in /Users/tonmoydey/opt/anaconda3/lib/python3.8/site-packages (0.1.22)\n",
      "Requirement already satisfied: kaggle in /Users/tonmoydey/opt/anaconda3/lib/python3.8/site-packages (from opendatasets) (1.5.16)\n",
      "Requirement already satisfied: click in /Users/tonmoydey/opt/anaconda3/lib/python3.8/site-packages (from opendatasets) (7.1.2)\n",
      "Requirement already satisfied: tqdm in /Users/tonmoydey/opt/anaconda3/lib/python3.8/site-packages (from opendatasets) (4.50.2)\n",
      "Requirement already satisfied: requests in /Users/tonmoydey/opt/anaconda3/lib/python3.8/site-packages (from kaggle->opendatasets) (2.31.0)\n",
      "Requirement already satisfied: bleach in /Users/tonmoydey/opt/anaconda3/lib/python3.8/site-packages (from kaggle->opendatasets) (3.2.1)\n",
      "Requirement already satisfied: six>=1.10 in /Users/tonmoydey/opt/anaconda3/lib/python3.8/site-packages (from kaggle->opendatasets) (1.15.0)\n",
      "Requirement already satisfied: certifi in /Users/tonmoydey/opt/anaconda3/lib/python3.8/site-packages (from kaggle->opendatasets) (2022.6.15)\n",
      "Requirement already satisfied: python-slugify in /Users/tonmoydey/opt/anaconda3/lib/python3.8/site-packages (from kaggle->opendatasets) (8.0.1)\n",
      "Requirement already satisfied: urllib3 in /Users/tonmoydey/opt/anaconda3/lib/python3.8/site-packages (from kaggle->opendatasets) (1.25.11)\n",
      "Requirement already satisfied: python-dateutil in /Users/tonmoydey/opt/anaconda3/lib/python3.8/site-packages (from kaggle->opendatasets) (2.8.2)\n",
      "Requirement already satisfied: idna<4,>=2.5 in /Users/tonmoydey/opt/anaconda3/lib/python3.8/site-packages (from requests->kaggle->opendatasets) (2.10)\n",
      "Requirement already satisfied: charset-normalizer<4,>=2 in /Users/tonmoydey/opt/anaconda3/lib/python3.8/site-packages (from requests->kaggle->opendatasets) (3.1.0)\n",
      "Requirement already satisfied: webencodings in /Users/tonmoydey/opt/anaconda3/lib/python3.8/site-packages (from bleach->kaggle->opendatasets) (0.5.1)\n",
      "Requirement already satisfied: packaging in /Users/tonmoydey/opt/anaconda3/lib/python3.8/site-packages (from bleach->kaggle->opendatasets) (20.4)\n",
      "Requirement already satisfied: text-unidecode>=1.3 in /Users/tonmoydey/opt/anaconda3/lib/python3.8/site-packages (from python-slugify->kaggle->opendatasets) (1.3)\n",
      "Requirement already satisfied: pyparsing>=2.0.2 in /Users/tonmoydey/opt/anaconda3/lib/python3.8/site-packages (from packaging->bleach->kaggle->opendatasets) (2.4.7)\n",
      "Note: you may need to restart the kernel to use updated packages.\n"
     ]
    }
   ],
   "source": [
    "pip install opendatasets"
   ]
  },
  {
   "cell_type": "code",
   "execution_count": 4,
   "metadata": {
    "id": "u4G6csD23JKZ"
   },
   "outputs": [],
   "source": [
    "import opendatasets as od"
   ]
  },
  {
   "cell_type": "markdown",
   "metadata": {
    "id": "rTXLWMkj3Nex"
   },
   "source": [
    "### **2 - Download the Data**"
   ]
  },
  {
   "cell_type": "code",
   "execution_count": 5,
   "metadata": {
    "id": "M9VJSA013WFC"
   },
   "outputs": [],
   "source": [
    "url = 'https://www.kaggle.com/trolukovich/apparel-images-dataset'"
   ]
  },
  {
   "cell_type": "code",
   "execution_count": 6,
   "metadata": {
    "colab": {
     "base_uri": "https://localhost:8080/"
    },
    "id": "Dqvgo-nZ3pW7",
    "outputId": "b4ffdf37-fff3-4348-c369-2f9c97766727"
   },
   "outputs": [
    {
     "name": "stdout",
     "output_type": "stream",
     "text": [
      "Skipping, found downloaded files in \"./apparel-images-dataset\" (use force=True to force download)\n"
     ]
    }
   ],
   "source": [
    "od.download(url)"
   ]
  },
  {
   "cell_type": "markdown",
   "metadata": {
    "id": "FEUKJClJ3r6L"
   },
   "source": [
    "### **3 - Get the Path of Images and the Labels (from directory name)**"
   ]
  },
  {
   "cell_type": "code",
   "execution_count": 7,
   "metadata": {
    "id": "wztMsKG936Dc"
   },
   "outputs": [],
   "source": [
    "def get_path_names(dir):\n",
    "  images = []\n",
    "  labels = []\n",
    "\n",
    "  for path, subdir, files in os.walk(dir):\n",
    "    for fname in files:\n",
    "      image_path = os.path.join(path, fname)\n",
    "      images.append(image_path)\n",
    "      label = list(os.path.join(path).split('/')[2].split('_')[:])\n",
    "      labels.append(label)\n",
    "\n",
    "  return images, labels\n",
    "\n",
    "images, labels = get_path_names('./apparel-images-dataset')"
   ]
  },
  {
   "cell_type": "markdown",
   "metadata": {
    "id": "xxEr1OTd5A0f"
   },
   "source": [
    "### **4 - Setup the Output Classes (to be used for encoding and decoding)**"
   ]
  },
  {
   "cell_type": "code",
   "execution_count": 8,
   "metadata": {
    "id": "GxD0JrA26Q8V"
   },
   "outputs": [],
   "source": [
    "classes = ['black',\n",
    "           'blue',\n",
    "           'brown',\n",
    "           'green',\n",
    "           'white',\n",
    "           'red',\n",
    "           'dress',\n",
    "           'pants',\n",
    "           'shorts',\n",
    "           'shoes',\n",
    "           'shirt']"
   ]
  },
  {
   "cell_type": "markdown",
   "metadata": {
    "id": "kt8VQPrq6cOO"
   },
   "source": [
    "### **5 - Define the Encoder and Decoder** (convert target to label and vice versa)"
   ]
  },
  {
   "cell_type": "code",
   "execution_count": 9,
   "metadata": {
    "id": "TvRJQnS66l03"
   },
   "outputs": [],
   "source": [
    "def encode(label, classes=classes):\n",
    "  output = torch.zeros(11)\n",
    "  for l in label:\n",
    "    idx = classes.index(l)\n",
    "    output[idx] = 1\n",
    "  return output\n",
    "\n",
    "def decode(output, threshold=0.5):\n",
    "  label = []\n",
    "  for i, n in enumerate(output):\n",
    "    if (n >= threshold):\n",
    "      label.append(classes[i])\n",
    "  return ' '.join(label)"
   ]
  },
  {
   "cell_type": "markdown",
   "metadata": {
    "id": "jDa3YvfG69xI"
   },
   "source": [
    "### **6 - Define Custom Dataset**"
   ]
  },
  {
   "cell_type": "code",
   "execution_count": 10,
   "metadata": {
    "id": "a3WBwg_88D3u"
   },
   "outputs": [],
   "source": [
    "class MyDataset(Dataset):\n",
    "  def __init__(self, root_dir, transform=None):\n",
    "    super().__init__()\n",
    "    self.root_dir = root_dir\n",
    "    self.transform = transform\n",
    "    self.images, self.labels = get_path_names(root_dir)\n",
    "\n",
    "  def __len__(self):\n",
    "    return len(self.images)\n",
    "\n",
    "  def __getitem__(self, index):\n",
    "    image = Image.open(self.images[index])\n",
    "    if self.transform:\n",
    "      image = self.transform(image)\n",
    "    label = self.labels[index]\n",
    "    # print(label)\n",
    "    return image, encode(label)\n"
   ]
  },
  {
   "cell_type": "markdown",
   "metadata": {
    "id": "NgOL3s1T9PF0"
   },
   "source": [
    "### **7 - Image Transformation**"
   ]
  },
  {
   "cell_type": "code",
   "execution_count": 11,
   "metadata": {
    "id": "0SIUHs1b9OWN"
   },
   "outputs": [],
   "source": [
    "imagenet_stats = ([0.485, 0.45, 0.406], [0.229, 0.224, 0.225])"
   ]
  },
  {
   "cell_type": "code",
   "execution_count": 12,
   "metadata": {
    "id": "gAvZagDt9tk2"
   },
   "outputs": [],
   "source": [
    "transform = T.Compose([T.Resize(128),\n",
    "                       T.RandomCrop(128),\n",
    "                       T.RandomHorizontalFlip(),\n",
    "                       T.RandomRotation(2),\n",
    "                       T.ToTensor(),\n",
    "                       T.Normalize(*imagenet_stats)]);"
   ]
  },
  {
   "cell_type": "markdown",
   "metadata": {
    "id": "tkTHJ0De-MAa"
   },
   "source": [
    "### **8 - Load Dataset**"
   ]
  },
  {
   "cell_type": "code",
   "execution_count": 13,
   "metadata": {
    "colab": {
     "base_uri": "https://localhost:8080/"
    },
    "id": "gw1KOCC4-Tmt",
    "outputId": "944d921d-0b13-48f6-ce63-9f035a2c532c"
   },
   "outputs": [
    {
     "data": {
      "text/plain": [
       "11385"
      ]
     },
     "execution_count": 13,
     "metadata": {},
     "output_type": "execute_result"
    }
   ],
   "source": [
    "dataset = MyDataset('./apparel-images-dataset', transform)\n",
    "len(dataset)"
   ]
  },
  {
   "cell_type": "markdown",
   "metadata": {
    "id": "3ZPKESpu-c97"
   },
   "source": [
    "### **9 - Denormalization Function to Show the Actual Image**"
   ]
  },
  {
   "cell_type": "code",
   "execution_count": 14,
   "metadata": {
    "colab": {
     "base_uri": "https://localhost:8080/",
     "height": 504
    },
    "id": "fgDioAGx_nKI",
    "outputId": "fc39ce03-f721-4265-c370-21ab0c527ba1"
   },
   "outputs": [
    {
     "name": "stdout",
     "output_type": "stream",
     "text": [
      "Label:  blue shoes\n",
      "tensor([0., 1., 0., 0., 0., 0., 0., 0., 0., 1., 0.])\n"
     ]
    },
    {
     "data": {
      "image/png": "[encoded data removed]",
      "text/plain": [
       "<Figure size 432x288 with 1 Axes>"
      ]
     },
     "metadata": {
      "needs_background": "light"
     },
     "output_type": "display_data"
    }
   ],
   "source": [
    "def denorm(image_tensors):\n",
    "  return image_tensors * imagenet_stats[1][0] + imagenet_stats[0][0]\n",
    "\n",
    "def show_image(image, label):\n",
    "  plt.imshow(denorm(image).permute(1,2,0))\n",
    "  print(\"Label: \", decode(label))\n",
    "  print(label)\n",
    "\n",
    "show_image(*dataset[11380])"
   ]
  },
  {
   "cell_type": "markdown",
   "metadata": {
    "id": "suc_qWhP_13D"
   },
   "source": [
    "### **10 - Train-Validation Split**"
   ]
  },
  {
   "cell_type": "code",
   "execution_count": 15,
   "metadata": {
    "colab": {
     "base_uri": "https://localhost:8080/"
    },
    "id": "jaYFJ7kHJr5p",
    "outputId": "dedbb651-6f39-44df-8138-4c6696d4ba8d"
   },
   "outputs": [
    {
     "data": {
      "text/plain": [
       "(9678, 1707)"
      ]
     },
     "execution_count": 15,
     "metadata": {},
     "output_type": "execute_result"
    }
   ],
   "source": [
    "val_size = int(0.15*len(dataset))\n",
    "train_size = len(dataset) - val_size\n",
    "train_ds, val_ds = random_split(dataset, [train_size, val_size])\n",
    "len(train_ds), len(val_ds)"
   ]
  },
  {
   "cell_type": "markdown",
   "metadata": {
    "id": "LKLu7JFkMFoW"
   },
   "source": [
    "### **11 - Define DataLoaders**"
   ]
  },
  {
   "cell_type": "code",
   "execution_count": 16,
   "metadata": {
    "id": "hBkjqcNSMI4b"
   },
   "outputs": [],
   "source": [
    "batch_size = 32\n",
    "train_dl = DataLoader(train_ds, batch_size=batch_size, shuffle=True)\n",
    "val_dl = DataLoader(val_ds, batch_size=batch_size*2)"
   ]
  },
  {
   "cell_type": "markdown",
   "metadata": {
    "id": "K801C7zgMWdO"
   },
   "source": [
    "### **12 - Define Utility Functions to load to device**"
   ]
  },
  {
   "cell_type": "code",
   "execution_count": 17,
   "metadata": {
    "id": "S05qlTQeMlrj"
   },
   "outputs": [],
   "source": [
    "def get_default_device():\n",
    "  if torch.cuda.is_available():\n",
    "    return torch.device('cuda')\n",
    "  else:\n",
    "    return torch.device('cpu')"
   ]
  },
  {
   "cell_type": "code",
   "execution_count": 18,
   "metadata": {
    "id": "mZpL2Un2R5Z0"
   },
   "outputs": [],
   "source": [
    "def to_device(data, device):\n",
    "  if isinstance(data, (list, tuple)):\n",
    "    return [to_device(x, device) for x in data]\n",
    "  return data.to(device, non_blocking=True)"
   ]
  },
  {
   "cell_type": "markdown",
   "metadata": {
    "id": "rKRsXQrNSlof"
   },
   "source": [
    "### **13 - Define Metrics**"
   ]
  },
  {
   "cell_type": "code",
   "execution_count": 19,
   "metadata": {
    "id": "xJkULFo0WCt1"
   },
   "outputs": [],
   "source": [
    "def F_score(output, label, threshold=0.5, beta=1):\n",
    "  output = output > threshold\n",
    "  label = label > threshold\n",
    "\n",
    "  TP = (output & label).sum(1).float()\n",
    "  TN = (~output & ~label).sum(1).float()\n",
    "  FP = (output & ~label).sum(1).float()\n",
    "  FN = (~output & label).sum(1).float()\n",
    "\n",
    "  precision = torch.mean(TP/(TP + FP + 1e-12))\n",
    "  recall = torch.mean(TP/(TP + FN + 1e-12))\n",
    "  F2 = (1 + beta**2)* precision * recall / (beta**2 * precision + recall + 1e-12)\n",
    "\n",
    "  return F2.mean(0)\n"
   ]
  },
  {
   "cell_type": "markdown",
   "metadata": {
    "id": "Jy-GC77ZXdEV"
   },
   "source": [
    "### **14 - Define Traning and Validation STEP Routines**"
   ]
  },
  {
   "cell_type": "code",
   "execution_count": 20,
   "metadata": {
    "id": "r1ArxRQ-Xkg6"
   },
   "outputs": [],
   "source": [
    "class MultiClassClassification(nn.Module):\n",
    "  def train_step(self, batch):\n",
    "    images, labels = batch\n",
    "    output = self(images)\n",
    "    loss = F.binary_cross_entropy(output, labels)\n",
    "    return loss\n",
    "\n",
    "  def validation_step(self, batch):\n",
    "    images, labels = batch\n",
    "    output = self(images)\n",
    "    loss = F.binary_cross_entropy(output, labels)\n",
    "    score = F_score(output, labels)\n",
    "    return {'val_loss':loss.detach(), 'val_score':score.detach()}\n",
    "\n",
    "  def validation_epoch_end(self, outputs):\n",
    "    batch_losses = [x['val_loss'] for x in outputs]\n",
    "    epoch_loss = torch.stack(batch_losses).mean()\n",
    "    batch_scores = [x['val_score'] for x in outputs]\n",
    "    epoch_score = torch.stack(batch_scores).mean()\n",
    "    return {'val_loss': epoch_loss.item(), 'val_score': epoch_score.item()}\n",
    "\n",
    "  def epoch_end(self, epoch, result):\n",
    "    print(\"Epoch [{}], train_loss: {:.4f}, val_loss: {:.4f}, val_score: {:.4f}\".format(epoch, result['train_loss'], result['val_loss'], result['val_score']))"
   ]
  },
  {
   "cell_type": "markdown",
   "metadata": {
    "id": "J6WXorq-pdmN"
   },
   "source": [
    "### **15 - Define Training and Validation Process**"
   ]
  },
  {
   "cell_type": "code",
   "execution_count": 21,
   "metadata": {
    "id": "msN7jJ3xZV4X"
   },
   "outputs": [],
   "source": [
    "def evaluate(model, val_dl):\n",
    "  with torch.no_grad():\n",
    "      model.eval()\n",
    "      outputs = [model.validation_step(batch) for batch in val_dl]\n",
    "      return model.validation_epoch_end(outputs)\n",
    "\n",
    "def fit(epochs, max_lr, model, train_dl, val_dl, weight_decay=0, grad_clip=None, opt_func=torch.optim.SGD):\n",
    "  torch.cuda.empty_cache()\n",
    "  history = []\n",
    "\n",
    "  # Optimizer\n",
    "  optimizer = opt_func(model.parameters(), max_lr, weight_decay=weight_decay)\n",
    "\n",
    "  for epoch in range(epochs):\n",
    "\n",
    "    #Training\n",
    "    model.train()\n",
    "    train_losses = []\n",
    "    # lrs = []\n",
    "\n",
    "    for batch in tqdm(train_dl):\n",
    "      loss = model.train_step(batch)\n",
    "      train_losses.append(loss)\n",
    "      loss.backward()\n",
    "\n",
    "      # Gradient Clipping\n",
    "      if grad_clip:\n",
    "        nn.utils.clip_grad_value_(model.parameters(), grad_clip)\n",
    "\n",
    "      optimizer.step()\n",
    "      optimizer.zero_grad()\n",
    "\n",
    "    # Validation\n",
    "    result = evaluate(model, val_dl)\n",
    "    result['train_loss'] = torch.stack(train_losses).mean().item()\n",
    "    print(result)\n",
    "\n",
    "    model.epoch_end(epoch, result)\n",
    "    history.append(result)\n",
    "            \n",
    "  return history\n",
    "\n"
   ]
  },
  {
   "cell_type": "markdown",
   "metadata": {
    "id": "YQuEpQIpxFLY"
   },
   "source": [
    "### **16 - Model Creation**"
   ]
  },
  {
   "cell_type": "code",
   "execution_count": 22,
   "metadata": {
    "id": "GEMuRIHyxdQg"
   },
   "outputs": [],
   "source": [
    "# Conv Block\n",
    "def conv_block(input_channels, output_channels, pool=False):\n",
    "  layers = [nn.Conv2d(input_channels, output_channels, kernel_size=3, padding=1),\n",
    "            nn.BatchNorm2d(output_channels),\n",
    "            nn.ReLU(inplace=True)]\n",
    "\n",
    "  if pool: layers.append(nn.MaxPool2d(4))\n",
    "\n",
    "  return nn.Sequential(*layers)"
   ]
  },
  {
   "cell_type": "code",
   "execution_count": 23,
   "metadata": {
    "id": "_Z5E5GSeyIft"
   },
   "outputs": [],
   "source": [
    "# Project Model (ResNet15) based\n",
    "class ProjectModel(MultiClassClassification):\n",
    "  def __init__(self, in_channels, num_classes):\n",
    "    super().__init__()\n",
    "\n",
    "    # input 3 x 128 x 128\n",
    "\n",
    "    self.conv1 = conv_block(in_channels, 64)\n",
    "    self.res1 = nn.Sequential(conv_block(64, 64), conv_block(64, 64)) # 64 x 128 x 128\n",
    "\n",
    "    self.conv2 = conv_block(64, 128, pool=True) # 128 x 32 x 32\n",
    "    self.res2 = nn.Sequential(conv_block(128, 128), conv_block(128, 128))\n",
    "\n",
    "    self.conv3 = conv_block(128, 512, pool=True) # 512 x 8 x 8\n",
    "    self.res3 = nn.Sequential(conv_block(512, 512), conv_block(512, 512))\n",
    "\n",
    "    self.conv4 = conv_block(512, 1024, pool=True) # 1024 x 2 x 2\n",
    "    self.res4 = nn.Sequential(conv_block(1024, 1024), conv_block(1024, 1024))\n",
    "\n",
    "    self.classifier = nn.Sequential(nn.MaxPool2d(2), # 1024 x 1 x 1\n",
    "                                    nn.Flatten(),\n",
    "                                    nn.Dropout(0.2),\n",
    "                                    nn.Linear(1024, 512),\n",
    "                                    nn.ReLU(),\n",
    "                                    nn.Linear(512, num_classes))\n",
    "\n",
    "  # Forward\n",
    "  def forward(self, x):\n",
    "    out = self.conv1(x)\n",
    "    out = self.res1(out) + out\n",
    "    out = self.conv2(out)\n",
    "    out = self.res2(out) + out\n",
    "    out = self.conv3(out)\n",
    "    out = self.res3(out) + out\n",
    "    out = self.conv4(out)\n",
    "    out = self.res4(out) + out\n",
    "\n",
    "    out = self.classifier(out)\n",
    "    out = F.sigmoid(out)\n",
    "    return out"
   ]
  },
  {
   "cell_type": "code",
   "execution_count": 24,
   "metadata": {
    "colab": {
     "base_uri": "https://localhost:8080/"
    },
    "id": "cOmHiD470yoa",
    "outputId": "a2a5fd25-5126-41f6-889a-cbc2870eccf1"
   },
   "outputs": [
    {
     "data": {
      "text/plain": [
       "ProjectModel(\n",
       "  (conv1): Sequential(\n",
       "    (0): Conv2d(3, 64, kernel_size=(3, 3), stride=(1, 1), padding=(1, 1))\n",
       "    (1): BatchNorm2d(64, eps=1e-05, momentum=0.1, affine=True, track_running_stats=True)\n",
       "    (2): ReLU(inplace=True)\n",
       "  )\n",
       "  (res1): Sequential(\n",
       "    (0): Sequential(\n",
       "      (0): Conv2d(64, 64, kernel_size=(3, 3), stride=(1, 1), padding=(1, 1))\n",
       "      (1): BatchNorm2d(64, eps=1e-05, momentum=0.1, affine=True, track_running_stats=True)\n",
       "      (2): ReLU(inplace=True)\n",
       "    )\n",
       "    (1): Sequential(\n",
       "      (0): Conv2d(64, 64, kernel_size=(3, 3), stride=(1, 1), padding=(1, 1))\n",
       "      (1): BatchNorm2d(64, eps=1e-05, momentum=0.1, affine=True, track_running_stats=True)\n",
       "      (2): ReLU(inplace=True)\n",
       "    )\n",
       "  )\n",
       "  (conv2): Sequential(\n",
       "    (0): Conv2d(64, 128, kernel_size=(3, 3), stride=(1, 1), padding=(1, 1))\n",
       "    (1): BatchNorm2d(128, eps=1e-05, momentum=0.1, affine=True, track_running_stats=True)\n",
       "    (2): ReLU(inplace=True)\n",
       "    (3): MaxPool2d(kernel_size=4, stride=4, padding=0, dilation=1, ceil_mode=False)\n",
       "  )\n",
       "  (res2): Sequential(\n",
       "    (0): Sequential(\n",
       "      (0): Conv2d(128, 128, kernel_size=(3, 3), stride=(1, 1), padding=(1, 1))\n",
       "      (1): BatchNorm2d(128, eps=1e-05, momentum=0.1, affine=True, track_running_stats=True)\n",
       "      (2): ReLU(inplace=True)\n",
       "    )\n",
       "    (1): Sequential(\n",
       "      (0): Conv2d(128, 128, kernel_size=(3, 3), stride=(1, 1), padding=(1, 1))\n",
       "      (1): BatchNorm2d(128, eps=1e-05, momentum=0.1, affine=True, track_running_stats=True)\n",
       "      (2): ReLU(inplace=True)\n",
       "    )\n",
       "  )\n",
       "  (conv3): Sequential(\n",
       "    (0): Conv2d(128, 512, kernel_size=(3, 3), stride=(1, 1), padding=(1, 1))\n",
       "    (1): BatchNorm2d(512, eps=1e-05, momentum=0.1, affine=True, track_running_stats=True)\n",
       "    (2): ReLU(inplace=True)\n",
       "    (3): MaxPool2d(kernel_size=4, stride=4, padding=0, dilation=1, ceil_mode=False)\n",
       "  )\n",
       "  (res3): Sequential(\n",
       "    (0): Sequential(\n",
       "      (0): Conv2d(512, 512, kernel_size=(3, 3), stride=(1, 1), padding=(1, 1))\n",
       "      (1): BatchNorm2d(512, eps=1e-05, momentum=0.1, affine=True, track_running_stats=True)\n",
       "      (2): ReLU(inplace=True)\n",
       "    )\n",
       "    (1): Sequential(\n",
       "      (0): Conv2d(512, 512, kernel_size=(3, 3), stride=(1, 1), padding=(1, 1))\n",
       "      (1): BatchNorm2d(512, eps=1e-05, momentum=0.1, affine=True, track_running_stats=True)\n",
       "      (2): ReLU(inplace=True)\n",
       "    )\n",
       "  )\n",
       "  (conv4): Sequential(\n",
       "    (0): Conv2d(512, 1024, kernel_size=(3, 3), stride=(1, 1), padding=(1, 1))\n",
       "    (1): BatchNorm2d(1024, eps=1e-05, momentum=0.1, affine=True, track_running_stats=True)\n",
       "    (2): ReLU(inplace=True)\n",
       "    (3): MaxPool2d(kernel_size=4, stride=4, padding=0, dilation=1, ceil_mode=False)\n",
       "  )\n",
       "  (res4): Sequential(\n",
       "    (0): Sequential(\n",
       "      (0): Conv2d(1024, 1024, kernel_size=(3, 3), stride=(1, 1), padding=(1, 1))\n",
       "      (1): BatchNorm2d(1024, eps=1e-05, momentum=0.1, affine=True, track_running_stats=True)\n",
       "      (2): ReLU(inplace=True)\n",
       "    )\n",
       "    (1): Sequential(\n",
       "      (0): Conv2d(1024, 1024, kernel_size=(3, 3), stride=(1, 1), padding=(1, 1))\n",
       "      (1): BatchNorm2d(1024, eps=1e-05, momentum=0.1, affine=True, track_running_stats=True)\n",
       "      (2): ReLU(inplace=True)\n",
       "    )\n",
       "  )\n",
       "  (classifier): Sequential(\n",
       "    (0): MaxPool2d(kernel_size=2, stride=2, padding=0, dilation=1, ceil_mode=False)\n",
       "    (1): Flatten(start_dim=1, end_dim=-1)\n",
       "    (2): Dropout(p=0.2, inplace=False)\n",
       "    (3): Linear(in_features=1024, out_features=512, bias=True)\n",
       "    (4): ReLU()\n",
       "    (5): Linear(in_features=512, out_features=11, bias=True)\n",
       "  )\n",
       ")"
      ]
     },
     "execution_count": 24,
     "metadata": {},
     "output_type": "execute_result"
    }
   ],
   "source": [
    "device = get_default_device()\n",
    "model = to_device(ProjectModel(3, len(classes)), device)\n",
    "model"
   ]
  },
  {
   "cell_type": "code",
   "execution_count": 25,
   "metadata": {
    "colab": {
     "base_uri": "https://localhost:8080/"
    },
    "id": "oN-qo6mh0_KU",
    "outputId": "394f3fe5-fc6e-41de-c80a-5ab77da722c1"
   },
   "outputs": [
    {
     "name": "stdout",
     "output_type": "stream",
     "text": [
      "----------------------------------------------------------------\n",
      "        Layer (type)               Output Shape         Param #\n",
      "================================================================\n",
      "            Conv2d-1         [-1, 64, 128, 128]           1,792\n",
      "       BatchNorm2d-2         [-1, 64, 128, 128]             128\n",
      "              ReLU-3         [-1, 64, 128, 128]               0\n",
      "            Conv2d-4         [-1, 64, 128, 128]          36,928\n",
      "       BatchNorm2d-5         [-1, 64, 128, 128]             128\n",
      "              ReLU-6         [-1, 64, 128, 128]               0\n",
      "            Conv2d-7         [-1, 64, 128, 128]          36,928\n",
      "       BatchNorm2d-8         [-1, 64, 128, 128]             128\n",
      "              ReLU-9         [-1, 64, 128, 128]               0\n",
      "           Conv2d-10        [-1, 128, 128, 128]          73,856\n",
      "      BatchNorm2d-11        [-1, 128, 128, 128]             256\n",
      "             ReLU-12        [-1, 128, 128, 128]               0\n",
      "        MaxPool2d-13          [-1, 128, 32, 32]               0\n",
      "           Conv2d-14          [-1, 128, 32, 32]         147,584\n",
      "      BatchNorm2d-15          [-1, 128, 32, 32]             256\n",
      "             ReLU-16          [-1, 128, 32, 32]               0\n",
      "           Conv2d-17          [-1, 128, 32, 32]         147,584\n",
      "      BatchNorm2d-18          [-1, 128, 32, 32]             256\n",
      "             ReLU-19          [-1, 128, 32, 32]               0\n",
      "           Conv2d-20          [-1, 512, 32, 32]         590,336\n",
      "      BatchNorm2d-21          [-1, 512, 32, 32]           1,024\n",
      "             ReLU-22          [-1, 512, 32, 32]               0\n",
      "        MaxPool2d-23            [-1, 512, 8, 8]               0\n",
      "           Conv2d-24            [-1, 512, 8, 8]       2,359,808\n",
      "      BatchNorm2d-25            [-1, 512, 8, 8]           1,024\n",
      "             ReLU-26            [-1, 512, 8, 8]               0\n",
      "           Conv2d-27            [-1, 512, 8, 8]       2,359,808\n",
      "      BatchNorm2d-28            [-1, 512, 8, 8]           1,024\n",
      "             ReLU-29            [-1, 512, 8, 8]               0\n",
      "           Conv2d-30           [-1, 1024, 8, 8]       4,719,616\n",
      "      BatchNorm2d-31           [-1, 1024, 8, 8]           2,048\n",
      "             ReLU-32           [-1, 1024, 8, 8]               0\n",
      "        MaxPool2d-33           [-1, 1024, 2, 2]               0\n",
      "           Conv2d-34           [-1, 1024, 2, 2]       9,438,208\n",
      "      BatchNorm2d-35           [-1, 1024, 2, 2]           2,048\n",
      "             ReLU-36           [-1, 1024, 2, 2]               0\n",
      "           Conv2d-37           [-1, 1024, 2, 2]       9,438,208\n",
      "      BatchNorm2d-38           [-1, 1024, 2, 2]           2,048\n",
      "             ReLU-39           [-1, 1024, 2, 2]               0\n",
      "        MaxPool2d-40           [-1, 1024, 1, 1]               0\n",
      "          Flatten-41                 [-1, 1024]               0\n",
      "          Dropout-42                 [-1, 1024]               0\n",
      "           Linear-43                  [-1, 512]         524,800\n",
      "             ReLU-44                  [-1, 512]               0\n",
      "           Linear-45                   [-1, 11]           5,643\n",
      "================================================================\n",
      "Total params: 29,891,467\n",
      "Trainable params: 29,891,467\n",
      "Non-trainable params: 0\n",
      "----------------------------------------------------------------\n",
      "Input size (MB): 0.19\n",
      "Forward/backward pass size (MB): 142.50\n",
      "Params size (MB): 114.03\n",
      "Estimated Total Size (MB): 256.71\n",
      "----------------------------------------------------------------\n"
     ]
    },
    {
     "name": "stderr",
     "output_type": "stream",
     "text": [
      "/Users/tonmoydey/opt/anaconda3/lib/python3.8/site-packages/torch/nn/functional.py:1639: UserWarning: nn.functional.sigmoid is deprecated. Use torch.sigmoid instead.\n",
      "  warnings.warn(\"nn.functional.sigmoid is deprecated. Use torch.sigmoid instead.\")\n"
     ]
    }
   ],
   "source": [
    "summary(model, (3, 128, 128))"
   ]
  },
  {
   "cell_type": "markdown",
   "metadata": {
    "id": "DHBAWO-T2QNX"
   },
   "source": [
    "### **17 - Training the Model**"
   ]
  },
  {
   "cell_type": "code",
   "execution_count": 26,
   "metadata": {
    "id": "rwancON17zvU"
   },
   "outputs": [],
   "source": [
    "#  Hyperparameters\n",
    "epochs = 3\n",
    "lr = 0.001\n",
    "grad_clip = 0.1\n",
    "weight_decay = 1e-4\n",
    "opt_func = torch.optim.Adam"
   ]
  },
  {
   "cell_type": "code",
   "execution_count": 27,
   "metadata": {
    "id": "Y6k8BiYD8Cpa"
   },
   "outputs": [
    {
     "data": {
      "application/vnd.jupyter.widget-view+json": {
       "model_id": "3b66bdc8cd8946dda8664856d5dd9103",
       "version_major": 2,
       "version_minor": 0
      },
      "text/plain": [
       "HBox(children=(HTML(value=''), FloatProgress(value=0.0, max=303.0), HTML(value='')))"
      ]
     },
     "metadata": {},
     "output_type": "display_data"
    },
    {
     "name": "stdout",
     "output_type": "stream",
     "text": [
      "\n",
      "{'val_loss': 0.1452827751636505, 'val_score': 0.8190315365791321, 'train_loss': 0.21707668900489807}\n",
      "Epoch [0], train_loss: 0.2171, val_loss: 0.1453, val_score: 0.8190\n"
     ]
    },
    {
     "data": {
      "application/vnd.jupyter.widget-view+json": {
       "model_id": "e76e4d19c1cb48c7b44ee6110acde716",
       "version_major": 2,
       "version_minor": 0
      },
      "text/plain": [
       "HBox(children=(HTML(value=''), FloatProgress(value=0.0, max=303.0), HTML(value='')))"
      ]
     },
     "metadata": {},
     "output_type": "display_data"
    },
    {
     "name": "stdout",
     "output_type": "stream",
     "text": [
      "\n",
      "{'val_loss': 0.10721645504236221, 'val_score': 0.8889080882072449, 'train_loss': 0.12184283137321472}\n",
      "Epoch [1], train_loss: 0.1218, val_loss: 0.1072, val_score: 0.8889\n"
     ]
    },
    {
     "data": {
      "application/vnd.jupyter.widget-view+json": {
       "model_id": "05e8b2b20b464cc0ab22948f426c4159",
       "version_major": 2,
       "version_minor": 0
      },
      "text/plain": [
       "HBox(children=(HTML(value=''), FloatProgress(value=0.0, max=303.0), HTML(value='')))"
      ]
     },
     "metadata": {},
     "output_type": "display_data"
    },
    {
     "name": "stdout",
     "output_type": "stream",
     "text": [
      "\n",
      "{'val_loss': 0.0938473716378212, 'val_score': 0.908584475517273, 'train_loss': 0.10529273748397827}\n",
      "Epoch [2], train_loss: 0.1053, val_loss: 0.0938, val_score: 0.9086\n"
     ]
    }
   ],
   "source": [
    "# Training\n",
    "\n",
    "history = fit(epochs, lr, model, train_dl, val_dl, grad_clip=grad_clip, weight_decay=weight_decay, opt_func=opt_func)"
   ]
  },
  {
   "cell_type": "markdown",
   "metadata": {
    "id": "yvaCv6dr8e9z"
   },
   "source": [
    "### **18 - Plotting the Metrics**"
   ]
  },
  {
   "cell_type": "code",
   "execution_count": 28,
   "metadata": {
    "id": "CqFJ6EqC8rJA"
   },
   "outputs": [],
   "source": [
    "def plot_scores(history):\n",
    "  scores = [x['val_score'] for x in history]\n",
    "  plt.plot(scores)\n",
    "  plt.xlabel('epoch')\n",
    "  plt.ylabel('score')\n",
    "  plt.title('F1 Score Vs. Epoch')\n",
    "  plt.show()\n",
    "\n",
    "def plot_losses(history):\n",
    "  val_losses = [x['val_loss'] for x in history]\n",
    "  train_losses = [x['train_loss'] for x in history]\n",
    "  plt.plot(val_losses, '-rx', label='Validation')\n",
    "  plt.plot(train_losses, '-bx', label='Train')\n",
    "  plt.xlabel('epoch')\n",
    "  plt.ylabel('loss')\n",
    "  plt.legend()\n",
    "  plt.title('Loss Vs. Epoch')\n",
    "  plt.show()"
   ]
  },
  {
   "cell_type": "code",
   "execution_count": 29,
   "metadata": {},
   "outputs": [
    {
     "data": {
      "image/png": "[encoded data removed]",
      "text/plain": [
       "<Figure size 432x288 with 1 Axes>"
      ]
     },
     "metadata": {
      "needs_background": "light"
     },
     "output_type": "display_data"
    },
    {
     "data": {
      "image/png": "[encoded data removed]",
      "text/plain": [
       "<Figure size 432x288 with 1 Axes>"
      ]
     },
     "metadata": {
      "needs_background": "light"
     },
     "output_type": "display_data"
    }
   ],
   "source": [
    "plot_scores(history)\n",
    "plot_losses(history)"
   ]
  },
  {
   "cell_type": "markdown",
   "metadata": {
    "id": "ga44ZlO19m1O"
   },
   "source": [
    "### **19 - Testing the Model**"
   ]
  },
  {
   "cell_type": "code",
   "execution_count": 33,
   "metadata": {
    "id": "Gn1Da2Yk9qMF"
   },
   "outputs": [
    {
     "name": "stderr",
     "output_type": "stream",
     "text": [
      "Clipping input data to the valid range for imshow with RGB data ([0..1] for floats or [0..255] for integers).\n"
     ]
    },
    {
     "name": "stdout",
     "output_type": "stream",
     "text": [
      "Prediction Label:  blue shirt\n",
      "Label:  blue shirt\n",
      "tensor([1.6171e-03, 9.9798e-01, 6.5156e-06, 3.2483e-03, 5.6052e-06, 3.7909e-07,\n",
      "        2.8269e-04, 9.2780e-02, 1.2908e-02, 1.0480e-03, 9.0414e-01],\n",
      "       grad_fn=<SelectBackward>)\n"
     ]
    },
    {
     "data": {
      "image/png": "[encoded data removed]",
      "text/plain": [
       "<Figure size 432x288 with 1 Axes>"
      ]
     },
     "metadata": {
      "needs_background": "light"
     },
     "output_type": "display_data"
    }
   ],
   "source": [
    "def predict_single(image):\n",
    "  x = image.unsqueeze(0)\n",
    "  x = to_device(x, device)\n",
    "  preds = model(x)\n",
    "  prediction = preds[0]\n",
    "#   print('Output Tensor: ', preds)\n",
    "#   print('Prediction Tensor: ', prediction)\n",
    "  print('Prediction Label: ', decode(prediction))\n",
    "\n",
    "  show_image(image, prediction)\n",
    "\n",
    "predict_single(val_ds[80][0])"
   ]
  },
  {
   "cell_type": "code",
   "execution_count": null,
   "metadata": {},
   "outputs": [],
   "source": []
  },
  {
   "cell_type": "code",
   "execution_count": null,
   "metadata": {},
   "outputs": [],
   "source": []
  }
 ],
 "metadata": {
  "colab": {
   "provenance": []
  },
  "kernelspec": {
   "display_name": "Python 3",
   "language": "python",
   "name": "python3"
  },
  "language_info": {
   "codemirror_mode": {
    "name": "ipython",
    "version": 3
   },
   "file_extension": ".py",
   "mimetype": "text/x-python",
   "name": "python",
   "nbconvert_exporter": "python",
   "pygments_lexer": "ipython3",
   "version": "3.8.5"
  }
 },
 "nbformat": 4,
 "nbformat_minor": 1
}
