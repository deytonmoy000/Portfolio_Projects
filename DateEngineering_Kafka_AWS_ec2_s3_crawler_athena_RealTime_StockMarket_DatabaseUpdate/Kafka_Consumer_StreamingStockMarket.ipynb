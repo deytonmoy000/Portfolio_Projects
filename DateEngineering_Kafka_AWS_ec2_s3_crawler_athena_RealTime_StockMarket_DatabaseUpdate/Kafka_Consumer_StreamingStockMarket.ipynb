{
 "cells": [
  {
   "cell_type": "markdown",
   "metadata": {},
   "source": [
    "# STOCK MARKET DATA STREAMING FOR REAL-TIME ANALYTICS"
   ]
  },
  {
   "cell_type": "markdown",
   "metadata": {},
   "source": [
    "## KAFKA CONSUMER CODE"
   ]
  },
  {
   "cell_type": "markdown",
   "metadata": {},
   "source": [
    "### The following code is used to:\n",
    "   ####  -  Receive the stock market data using Kafka topics and \n",
    "   ####  -  Store the data into json files in AWS S3 for real-time database update using AWS CRAWLER & ATHENA. "
   ]
  },
  {
   "cell_type": "markdown",
   "metadata": {},
   "source": [
    "### IMPORT LIBRARIES"
   ]
  },
  {
   "cell_type": "code",
   "execution_count": 1,
   "metadata": {},
   "outputs": [],
   "source": [
    "import pandas as pd\n",
    "from kafka import KafkaConsumer\n",
    "from time import sleep\n",
    "from json import loads\n",
    "import json\n",
    "from s3fs import S3FileSystem\n"
   ]
  },
  {
   "cell_type": "markdown",
   "metadata": {},
   "source": [
    "### CREATE CONSUMER"
   ]
  },
  {
   "cell_type": "code",
   "execution_count": 2,
   "metadata": {},
   "outputs": [],
   "source": [
    "consumer = KafkaConsumer('demo_top100_us_stock',\n",
    "                        bootstrap_servers=['18.220.172.23:9092'],\n",
    "                        value_deserializer=lambda x:loads(x.decode('utf-8')))"
   ]
  },
  {
   "cell_type": "markdown",
   "metadata": {},
   "source": [
    "### CREATE A S3 FILESYSTEM"
   ]
  },
  {
   "cell_type": "code",
   "execution_count": 3,
   "metadata": {},
   "outputs": [],
   "source": [
    "s3 = S3FileSystem()"
   ]
  },
  {
   "cell_type": "markdown",
   "metadata": {},
   "source": [
    "#### RECEIVE MESSAGES and STORE DATA INTO FILES in S3 File System"
   ]
  },
  {
   "cell_type": "code",
   "execution_count": null,
   "metadata": {},
   "outputs": [
    {
     "name": "stdout",
     "output_type": "stream",
     "text": [
      "Started Receving...\n",
      "\n",
      "1. AAPL Stock Data Received and Stored in AWS S3 (s3://top-100-us-stock-data-kafka-tonmoy/) Files: stock_market_(0-99).json)\n",
      "\n",
      "2. AMZN Stock Data Received and Stored in AWS S3 (s3://top-100-us-stock-data-kafka-tonmoy/) Files: stock_market_(100-199).json)\n",
      "\n",
      "3. BRK-A Stock Data Received and Stored in AWS S3 (s3://top-100-us-stock-data-kafka-tonmoy/) Files: stock_market_(200-299).json)\n",
      "\n",
      "4. BRK-B Stock Data Received and Stored in AWS S3 (s3://top-100-us-stock-data-kafka-tonmoy/) Files: stock_market_(300-399).json)\n",
      "\n",
      "5. GOOG Stock Data Received and Stored in AWS S3 (s3://top-100-us-stock-data-kafka-tonmoy/) Files: stock_market_(400-499).json)\n",
      "\n",
      "6. GOOGL Stock Data Received and Stored in AWS S3 (s3://top-100-us-stock-data-kafka-tonmoy/) Files: stock_market_(500-599).json)\n",
      "\n",
      "7. META Stock Data Received and Stored in AWS S3 (s3://top-100-us-stock-data-kafka-tonmoy/) Files: stock_market_(600-699).json)\n",
      "\n",
      "8. MSFT Stock Data Received and Stored in AWS S3 (s3://top-100-us-stock-data-kafka-tonmoy/) Files: stock_market_(700-799).json)\n",
      "\n",
      "9. NVDA Stock Data Received and Stored in AWS S3 (s3://top-100-us-stock-data-kafka-tonmoy/) Files: stock_market_(800-899).json)\n",
      "\n"
     ]
    }
   ],
   "source": [
    "prev_stock  = ''\n",
    "count_start = 0\n",
    "count_last   = 0\n",
    "cnt         = 1\n",
    "for count, c in enumerate(consumer):\n",
    "    with s3.open(\"s3://top-100-us-stock-data-kafka-tonmoy/stock_market_{0}.json\".format(count), 'w') as file:\n",
    "        json.dump(c.value, file)   \n",
    "    \n",
    "    if prev_stock == '':\n",
    "        print('Started Receving...\\n')\n",
    "        prev_stock  = c.value['Stock_Index']\n",
    "        count_start = count\n",
    "    else:\n",
    "        if prev_stock != c.value['Stock_Index']:\n",
    "            print('{3}. {0} Stock Data Received and Stored in AWS S3 (s3://top-100-us-stock-data-kafka-tonmoy/) Files: stock_market_({1}-{2}).json)\\n'.format(prev_stock, count_start, count-1, cnt))\n",
    "            prev_stock  = c.value['Stock_Index']\n",
    "            count_start = count\n",
    "            cnt += 1\n",
    "    count_last = count\n",
    "\n",
    "print('{3}. {0} Stock Data Received and Stored in AWS S3 (s3://top-100-us-stock-data-kafka-tonmoy/) Files: stock_market_({1}-{2}).json)\\n'.format(prev_stock, count_start, count_last, cnt))        \n",
    "\n",
    "\n",
    "    "
   ]
  }
 ],
 "metadata": {
  "kernelspec": {
   "display_name": "Python 3",
   "language": "python",
   "name": "python3"
  },
  "language_info": {
   "codemirror_mode": {
    "name": "ipython",
    "version": 3
   },
   "file_extension": ".py",
   "mimetype": "text/x-python",
   "name": "python",
   "nbconvert_exporter": "python",
   "pygments_lexer": "ipython3",
   "version": "3.8.5"
  }
 },
 "nbformat": 4,
 "nbformat_minor": 4
}
